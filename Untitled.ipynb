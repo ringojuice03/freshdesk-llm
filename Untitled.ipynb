{
 "cells": [
  {
   "cell_type": "code",
   "execution_count": 1,
   "id": "44d61ac2-dc47-45b1-9499-ff3c17178e90",
   "metadata": {},
   "outputs": [
    {
     "name": "stdout",
     "output_type": "stream",
     "text": [
      "Requirement already satisfied: groq in /usr/local/python/3.12.1/lib/python3.12/site-packages (0.28.0)\n",
      "Requirement already satisfied: anyio<5,>=3.5.0 in /home/codespace/.local/lib/python3.12/site-packages (from groq) (4.9.0)\n",
      "Requirement already satisfied: distro<2,>=1.7.0 in /usr/local/python/3.12.1/lib/python3.12/site-packages (from groq) (1.9.0)\n",
      "Requirement already satisfied: httpx<1,>=0.23.0 in /home/codespace/.local/lib/python3.12/site-packages (from groq) (0.28.1)\n",
      "Requirement already satisfied: pydantic<3,>=1.9.0 in /usr/local/python/3.12.1/lib/python3.12/site-packages (from groq) (2.11.7)\n",
      "Requirement already satisfied: sniffio in /home/codespace/.local/lib/python3.12/site-packages (from groq) (1.3.1)\n",
      "Requirement already satisfied: typing-extensions<5,>=4.10 in /home/codespace/.local/lib/python3.12/site-packages (from groq) (4.13.2)\n",
      "Requirement already satisfied: idna>=2.8 in /home/codespace/.local/lib/python3.12/site-packages (from anyio<5,>=3.5.0->groq) (3.10)\n",
      "Requirement already satisfied: certifi in /home/codespace/.local/lib/python3.12/site-packages (from httpx<1,>=0.23.0->groq) (2025.4.26)\n",
      "Requirement already satisfied: httpcore==1.* in /home/codespace/.local/lib/python3.12/site-packages (from httpx<1,>=0.23.0->groq) (1.0.9)\n",
      "Requirement already satisfied: h11>=0.16 in /home/codespace/.local/lib/python3.12/site-packages (from httpcore==1.*->httpx<1,>=0.23.0->groq) (0.16.0)\n",
      "Requirement already satisfied: annotated-types>=0.6.0 in /usr/local/python/3.12.1/lib/python3.12/site-packages (from pydantic<3,>=1.9.0->groq) (0.7.0)\n",
      "Requirement already satisfied: pydantic-core==2.33.2 in /usr/local/python/3.12.1/lib/python3.12/site-packages (from pydantic<3,>=1.9.0->groq) (2.33.2)\n",
      "Requirement already satisfied: typing-inspection>=0.4.0 in /usr/local/python/3.12.1/lib/python3.12/site-packages (from pydantic<3,>=1.9.0->groq) (0.4.1)\n",
      "Note: you may need to restart the kernel to use updated packages.\n"
     ]
    }
   ],
   "source": [
    "pip install groq"
   ]
  },
  {
   "cell_type": "code",
   "execution_count": 2,
   "id": "7ccac9e8-fde1-4891-a149-bcec691a6f2c",
   "metadata": {},
   "outputs": [],
   "source": [
    "from groq import Groq"
   ]
  },
  {
   "cell_type": "code",
   "execution_count": 6,
   "id": "04f48f17-c823-4040-9f05-d96db66693c5",
   "metadata": {},
   "outputs": [],
   "source": [
    "from dotenv import load_dotenv\n",
    "load_dotenv()\n",
    "\n",
    "groq_api_key = os.environ.get('GROQ_API_KEY')"
   ]
  },
  {
   "cell_type": "code",
   "execution_count": 27,
   "id": "519449dc-d6ce-48bd-81bd-481f76c3d5b1",
   "metadata": {},
   "outputs": [],
   "source": [
    "groq_client = Groq(api_key=groq_api_key)"
   ]
  },
  {
   "cell_type": "code",
   "execution_count": 63,
   "id": "f64f02e7-262b-4f61-9be4-c7fe324d7265",
   "metadata": {},
   "outputs": [],
   "source": [
    "completion = groq_client.chat.completions.create(\n",
    "    model=\"meta-llama/llama-4-scout-17b-16e-instruct\",\n",
    "    messages=[\n",
    "      {\n",
    "        \"role\": \"user\",\n",
    "        \"content\": \"Do you have daily limit for free tier api users?\"\n",
    "      }\n",
    "    ],\n",
    "    temperature=1,\n",
    "    max_completion_tokens=1024,\n",
    "    top_p=1,\n",
    "    stream=True,\n",
    "    stop=None,\n",
    ")"
   ]
  },
  {
   "cell_type": "code",
   "execution_count": 64,
   "id": "12451a08-3ad6-4be2-9f2e-a55fdca31263",
   "metadata": {},
   "outputs": [
    {
     "data": {
      "text/plain": [
       "<groq.Stream at 0x7b6e079e38c0>"
      ]
     },
     "execution_count": 64,
     "metadata": {},
     "output_type": "execute_result"
    }
   ],
   "source": [
    "completion"
   ]
  },
  {
   "cell_type": "code",
   "execution_count": 65,
   "id": "72cde4a5-c463-4b07-8b9e-c6bef28d4c7e",
   "metadata": {},
   "outputs": [],
   "source": [
    "answer = \"\"\n",
    "\n",
    "for chunk in completion:\n",
    "    content = chunk.choices[0].delta.content or \"\"\n",
    "    answer += content"
   ]
  },
  {
   "cell_type": "code",
   "execution_count": 66,
   "id": "eaea2a46-5185-4794-a378-8e549c63f836",
   "metadata": {},
   "outputs": [
    {
     "name": "stdout",
     "output_type": "stream",
     "text": [
      "I'm assuming you're referring to the API usage limits for free tier users. \n",
      "\n",
      "For the free tier, **yes**, there are daily limits on API usage to prevent abuse and ensure fair usage. The specific limits can vary depending on the API or service provider.\n",
      "\n",
      "Here are a few examples:\n",
      "\n",
      "*   **OpenAI API (which powers me)**: The free tier has a limit of 3 requests per minute and 200 requests per day for the text-based models like myself.\n",
      "*   **Google Cloud APIs**: Most Google Cloud APIs have a free tier limit of 2 million requests per day, but some APIs have lower or higher limits.\n",
      "*   **Twitter API**: The free tier has a limit of 150 requests per 15-minute window, which translates to around 600 requests per hour or 14,400 requests per day.\n",
      "\n",
      "Keep in mind that these limits can change over time, and some APIs might have different limits for different types of requests (e.g., read vs. write requests).\n",
      "\n",
      "If you're planning to use an API extensively, I recommend checking the API documentation or contacting the API provider to confirm their specific usage limits and any potential costs associated with exceeding those limits. \n",
      "\n",
      "Was there anything else I can help with?\n"
     ]
    }
   ],
   "source": [
    "print(answer)"
   ]
  },
  {
   "cell_type": "code",
   "execution_count": null,
   "id": "15d6db45-80c3-49b2-b420-1492bce99f34",
   "metadata": {},
   "outputs": [],
   "source": []
  }
 ],
 "metadata": {
  "kernelspec": {
   "display_name": "Python 3 (ipykernel)",
   "language": "python",
   "name": "python3"
  },
  "language_info": {
   "codemirror_mode": {
    "name": "ipython",
    "version": 3
   },
   "file_extension": ".py",
   "mimetype": "text/x-python",
   "name": "python",
   "nbconvert_exporter": "python",
   "pygments_lexer": "ipython3",
   "version": "3.12.1"
  }
 },
 "nbformat": 4,
 "nbformat_minor": 5
}
