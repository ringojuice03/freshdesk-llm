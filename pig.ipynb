{
 "cells": [
  {
   "cell_type": "code",
   "execution_count": 1,
   "id": "bc051f0f-5f10-4fa5-9c97-f412999fb452",
   "metadata": {},
   "outputs": [],
   "source": [
    "import os\n",
    "from datetime import datetime\n",
    "import requests\n",
    "import tiktoken\n",
    "import json\n",
    "from typing import Dict, Tuple\n",
    "from dotenv import load_dotenv\n",
    "load_dotenv()\n",
    "\n",
    "model = \"gpt-4o-mini\"\n",
    "encoding = tiktoken.encoding_for_model(model)"
   ]
  },
  {
   "cell_type": "code",
   "execution_count": 79,
   "id": "600b1def-e77e-4ca1-a4b5-07143f822ace",
   "metadata": {},
   "outputs": [],
   "source": [
    "headers = {\n",
    "    'Content-Type': 'application/json'\n",
    "}\n",
    "freshdesk_api_key = os.environ.get('FRESHDESK_API_KEY')\n",
    "auth = (freshdesk_api_key, 'X')\n",
    "domain = 'nueca'"
   ]
  },
  {
   "cell_type": "markdown",
   "id": "bf6c92e5-6aff-413c-9a57-15566846fb93",
   "metadata": {},
   "source": [
    "import requests\n",
    "\n",
    "tickets_url = f\"https://{domain}.freshdesk.com/api/v2/tickets?order_by=created_at&order_type=desc&per_page=3\"\n",
    "ticket_response = requests.get(tickets_url, headers=headers, auth=auth)\n",
    "tickets = ticket_response.json() if ticket_response.status_code == 200 else []"
   ]
  },
  {
   "cell_type": "code",
   "execution_count": 80,
   "id": "8f130778-d222-4c99-b46c-f7e38204e063",
   "metadata": {},
   "outputs": [],
   "source": [
    "def parse_freshdesk_conversations(conversations, ticket_description) -> dict:\n",
    "    # sorted_conversations = sorted(conversations, key=lambda x: x['created_at'])\n",
    "    \n",
    "    customer_conversation = \"\"\n",
    "    agent_conversation = \"\"\n",
    "\n",
    "    message_data = {\n",
    "        'id': ticket_description['id'],\n",
    "        'body_text': ticket_description['subject'],\n",
    "        'role': 'Customer'\n",
    "    }\n",
    "\n",
    "    customer_conversation += message_data['body_text'] + \"\\n\"\n",
    "\n",
    "    for i, conv in enumerate(conversations, 2):\n",
    "        message_data = {\n",
    "            'body_text': conv['body_text'],\n",
    "        }\n",
    "        if message_data['body_text'] == '':\n",
    "            continue\n",
    "        if conv['incoming']:\n",
    "            customer_conversation += message_data['body_text'] + \"\\n\"\n",
    "        else:\n",
    "            agent_conversation += message_data['body_text'] + \"\\n\"\n",
    "\n",
    "    return {\n",
    "        'customer_conversation': customer_conversation,\n",
    "        'agent_conversation': agent_conversation,\n",
    "    }"
   ]
  },
  {
   "cell_type": "code",
   "execution_count": 81,
   "id": "3337c864-6f30-48fe-bd10-f0f288da5488",
   "metadata": {},
   "outputs": [],
   "source": [
    "def get_all_conversations(ticket_id, ticket_description):\n",
    "    conversations = []\n",
    "    url = f\"https://{domain}.freshdesk.com/api/v2/tickets/{ticket_id}/conversations\"\n",
    "\n",
    "    while url:\n",
    "        response = requests.get(url, headers=headers, auth=auth)\n",
    "        if response.status_code != 200:\n",
    "            break\n",
    "        data = response.json()\n",
    "        conversations.extend(data)\n",
    "        link = response.headers.get('link')\n",
    "        if link and 'rel=\"next\"' in link:\n",
    "            import re\n",
    "            match = re.search(r'<([^>]+)>;\\s*rel=\"next\"', link)\n",
    "            url = match.group(1) if match else None\n",
    "            print(\"has pagination\")\n",
    "        else:\n",
    "            url = None\n",
    "\n",
    "    # print(conversations)\n",
    "    parsed_conversations = parse_freshdesk_conversations(conversations, ticket_description)\n",
    "\n",
    "    return parsed_conversations"
   ]
  },
  {
   "cell_type": "code",
   "execution_count": 82,
   "id": "8887dfd3-b8c1-4728-ac87-26da9db5df78",
   "metadata": {},
   "outputs": [],
   "source": [
    "def add_to_map(mmap: Dict[int, Tuple[int, int]], key: int, value: Tuple[int, int]):\n",
    "    if key in mmap:\n",
    "        existing = mmap[key]\n",
    "        mmap[key] = (existing[0] + value[0], existing[1] + value[1])\n",
    "    else:\n",
    "        mmap[key] = value\n",
    "\n",
    "    return mmap"
   ]
  },
  {
   "cell_type": "code",
   "execution_count": 83,
   "id": "60ea2afd-85e3-4616-b20c-e5f0642343b8",
   "metadata": {},
   "outputs": [
    {
     "data": {
      "text/plain": [
       "{}"
      ]
     },
     "execution_count": 83,
     "metadata": {},
     "output_type": "execute_result"
    }
   ],
   "source": [
    "mmap: Dict[int, Tuple[int, int]] = {}\n",
    "mmap"
   ]
  },
  {
   "cell_type": "code",
   "execution_count": null,
   "id": "cabb4acd-afc0-4cc0-bf4a-f2799f8801e6",
   "metadata": {},
   "outputs": [],
   "source": [
    "# 11810\n",
    "\n",
    "from IPython.core.interactiveshell import InteractiveShell\n",
    "InteractiveShell.ast_node_interactivity = \"all\"\n",
    "\n",
    "months = set(())\n",
    "\n",
    "for ticket_id in range(7713, 22606):\n",
    "    description_url = f\"https://{domain}.freshdesk.com/api/v2/tickets/{ticket_id}\"\n",
    "    ticket_description = requests.get(description_url, headers=headers, auth=auth).json()\n",
    "    \n",
    "    date_str = ticket_description['created_at']\n",
    "    dt = datetime.strptime(date_str, \"%Y-%m-%dT%H:%M:%SZ\")\n",
    "    month = dt.month\n",
    "\n",
    "    parsed_conversations = get_all_conversations(ticket_id, ticket_description)\n",
    "    \n",
    "    customer_messages = parsed_conversations['customer_conversation']\n",
    "    customer_length = len(customer_messages)\n",
    "    \n",
    "    agent_messages = parsed_conversations['agent_conversation']\n",
    "    agent_length = len(agent_messages)\n",
    "\n",
    "    mmap = add_to_map(mmap, month, (customer_length, agent_length))\n",
    "\n",
    "    if ticket_id % 100 == 0:\n",
    "        print(f'ID: {ticket_id} - {mmap}')\n",
    "        print(\"-----\")"
   ]
  },
  {
   "cell_type": "markdown",
   "id": "e31bd3e5-5c3e-45fe-b96c-5315554aad4c",
   "metadata": {},
   "source": [
    "-----"
   ]
  },
  {
   "cell_type": "markdown",
   "id": "f04d58f9-ae86-41eb-9fc5-7d6903825676",
   "metadata": {},
   "source": [
    "#### Monthly conversation length"
   ]
  },
  {
   "cell_type": "code",
   "execution_count": 134,
   "id": "540f72ea-cf56-4dbc-9e68-0d8edbc5d4e9",
   "metadata": {},
   "outputs": [],
   "source": [
    "mmap = {1: (403353, 669959), 2: (356369, 684548), 3: (418523, 822324)}"
   ]
  },
  {
   "cell_type": "code",
   "execution_count": 135,
   "id": "37180b3a-6a6a-4f72-9653-23f2840a2ae3",
   "metadata": {},
   "outputs": [
    {
     "data": {
      "text/plain": [
       "6083"
      ]
     },
     "execution_count": 135,
     "metadata": {},
     "output_type": "execute_result"
    }
   ],
   "source": [
    "tickets = 13796 - 7713\n",
    "tickets"
   ]
  },
  {
   "cell_type": "markdown",
   "id": "dcf10c12-bb85-4488-a2bc-773cf241933d",
   "metadata": {},
   "source": [
    "#### Monthly number of tickets"
   ]
  },
  {
   "cell_type": "code",
   "execution_count": 136,
   "id": "cd3998d4-c1af-4130-8db9-a4253f1e41ee",
   "metadata": {},
   "outputs": [
    {
     "data": {
      "text/plain": [
       "2028"
      ]
     },
     "execution_count": 136,
     "metadata": {},
     "output_type": "execute_result"
    }
   ],
   "source": [
    "total_tickets_month = tickets / 3\n",
    "round(total_tickets_month)"
   ]
  },
  {
   "cell_type": "markdown",
   "id": "bd08da45-2262-4a59-b6f2-6fa5fe1ec759",
   "metadata": {},
   "source": [
    "#### Average conversation length per ticket"
   ]
  },
  {
   "cell_type": "code",
   "execution_count": 137,
   "id": "b3caf8dc-daa5-4f68-a00f-30668919e7b8",
   "metadata": {},
   "outputs": [
    {
     "data": {
      "text/plain": [
       "1655"
      ]
     },
     "execution_count": 137,
     "metadata": {},
     "output_type": "execute_result"
    }
   ],
   "source": [
    "total_length = 0\n",
    "\n",
    "for key in mmap:\n",
    "    customer_length = mmap[key][0]\n",
    "    agent_length = mmap[key][1]\n",
    "    total_length += customer_length + agent_length\n",
    "\n",
    "ave_conversation_len = total_length / total_tickets_month\n",
    "round(ave_conversation_len)"
   ]
  },
  {
   "cell_type": "markdown",
   "id": "ef20758b-5d2a-4e8e-b45f-b8156712f428",
   "metadata": {},
   "source": [
    "### Computation per ticket"
   ]
  },
  {
   "cell_type": "code",
   "execution_count": null,
   "id": "ca398a45-0f7c-4410-963e-20bd730cab9b",
   "metadata": {},
   "outputs": [],
   "source": [
    "# gpt-4o-mini\n",
    "model = \"gpt-4o-mini\"\n",
    "\n",
    "# [$5 • $15]\n",
    "model = \"chatgpt-4o-latest\" \n",
    "\n",
    "tokens:\n",
    "\n",
    "vector population (20,000 tickets)\n",
    "    Input\n",
    "        - get problem and resolution prompt no conversation [4405 len] (990 tokens)\n",
    "        - ave conversation length [2612 len] (584 tokens)\n",
    "    Output\n",
    "        - problem and resolution [617 len] (105 tokens)\n",
    "\n",
    "answering tickets\n",
    "rag classification\n",
    "    Input\n",
    "        - get problem prompt no context [5019 len] (1023 tokens) \n",
    "            - query issues [171 len]\n",
    "            - specific_issues [3271 len]\n",
    "            - problem [257 len]\n",
    "        - top 5 relevant tickets (context) [2560 len] (453 tokens)\n",
    "    Output\n",
    "        - query and specific issue (10 tokens)\n",
    "\n",
    "rag\n",
    "    Input\n",
    "        - resolution prompt no context [3035 len] (604 tokens) \n",
    "            - problem [257 len]\n",
    "        - top 5 relevant tickets (context) [2560 len] (453 tokens)\n",
    "    Output\n",
    "        - answer [366 len] (88 tokens)\n",
    "        - priority (5 tokens)"
   ]
  },
  {
   "cell_type": "markdown",
   "id": "5da73232-9e79-44e5-a54c-c8355c9ea07f",
   "metadata": {},
   "source": [
    "### API pricing"
   ]
  },
  {
   "cell_type": "code",
   "execution_count": 138,
   "id": "e7da92fa-56b7-41e1-ba2d-c62143bd0bdf",
   "metadata": {},
   "outputs": [],
   "source": [
    "mini_input_pricing = 0.15\n",
    "mini_output_pricing = 0.6\n",
    "\n",
    "flagship_input_pricing = 5\n",
    "flagship_output_pricing = 15\n",
    "\n",
    "dollar_php_rate = 56.62"
   ]
  },
  {
   "cell_type": "markdown",
   "id": "5f43186f-1a60-4563-a21d-2ad4d71fc1a6",
   "metadata": {},
   "source": [
    "### Vector DB population price (20,000 tickets)"
   ]
  },
  {
   "cell_type": "code",
   "execution_count": 139,
   "id": "20fe2d77-f3ef-4f01-b06a-a18464bf9eae",
   "metadata": {},
   "outputs": [],
   "source": [
    "total_tickets = 20000"
   ]
  },
  {
   "cell_type": "code",
   "execution_count": 140,
   "id": "046bd386-14db-4192-8bfd-dff481ed0f50",
   "metadata": {},
   "outputs": [],
   "source": [
    "get_problem_and_resolution_prompt = 990\n",
    "ave_conversation_length = 584\n",
    "\n",
    "problem_and_resolution = 105"
   ]
  },
  {
   "cell_type": "code",
   "execution_count": 141,
   "id": "1cc6df88-4029-44b8-b879-8eb54ec2b93b",
   "metadata": {},
   "outputs": [],
   "source": [
    "input_tokens = get_problem_and_resolution_prompt + ave_conversation_length\n",
    "output_tokens = problem_and_resolution"
   ]
  },
  {
   "cell_type": "code",
   "execution_count": 142,
   "id": "86a9b8c4-73a3-42b7-ba74-132e8dedb097",
   "metadata": {},
   "outputs": [],
   "source": [
    "total_input_tokens = input_tokens * total_tickets\n",
    "total_output_tokens = output_tokens * total_tickets"
   ]
  },
  {
   "cell_type": "code",
   "execution_count": 143,
   "id": "c44f7404-0cd2-4862-b0dc-cd7d47bf1397",
   "metadata": {},
   "outputs": [],
   "source": [
    "mini_input_price = (total_input_tokens / 1e6) * mini_input_pricing\n",
    "mini_output_price = (total_output_tokens / 1e6) * mini_output_pricing\n",
    "\n",
    "mini_input_price_peso = mini_input_price * dollar_php_rate\n",
    "mini_output_price_peso = mini_output_price * dollar_php_rate"
   ]
  },
  {
   "cell_type": "code",
   "execution_count": 144,
   "id": "43915c93-7336-4aed-9568-039fdb9cebd9",
   "metadata": {},
   "outputs": [],
   "source": [
    "flagship_input_price = (total_input_tokens / 1e6) * flagship_input_pricing\n",
    "flagship_output_price = (total_output_tokens / 1e6) * flagship_output_pricing\n",
    "\n",
    "flagship_input_price_peso = flagship_input_price * dollar_php_rate\n",
    "flagship_output_price_peso = flagship_output_price * dollar_php_rate"
   ]
  },
  {
   "cell_type": "code",
   "execution_count": 145,
   "id": "473ea091-1611-4250-8e85-681c4d0f49e6",
   "metadata": {},
   "outputs": [
    {
     "name": "stdout",
     "output_type": "stream",
     "text": [
      "COST OF VECTOR POPULATION\n",
      "Total input tokens: 31,480,000\n",
      "Total output tokens: 2,100,000\n",
      "\n",
      "Dollar to Peso: 56.62\n",
      "\n",
      "GPT-4o mini (Cheap) [I/O $0.15 • $0.6]\n",
      "Mini input pricing: $4.72 or ₱267.36\n",
      "Mini output pricing: $1.26 or ₱71.34\n",
      "\n",
      "ChatGPT-4o latest (Flagship) [I/O $5 • $15]\n",
      "Flagship input pricing: $157.4 or ₱8911.99\n",
      "Flagship output pricing: $31.5 or ₱1783.53\n"
     ]
    }
   ],
   "source": [
    "print(\"COST OF VECTOR POPULATION\")\n",
    "\n",
    "print(f\"Total input tokens: {total_input_tokens:,}\")\n",
    "print(f\"Total output tokens: {total_output_tokens:,}\")\n",
    "print()\n",
    "\n",
    "print(f\"Dollar to Peso: {dollar_php_rate}\")\n",
    "print()\n",
    "\n",
    "print(f'GPT-4o mini (Cheap) [I/O $0.15 • $0.6]')\n",
    "print(f\"Mini input pricing: ${round(mini_input_price, 2)} or ₱{round(mini_input_price_peso, 2)}\")\n",
    "print(f\"Mini output pricing: ${round(mini_output_price, 2)} or ₱{round(mini_output_price_peso, 2)}\")\n",
    "print()\n",
    "\n",
    "print(f'ChatGPT-4o latest (Flagship) [I/O $5 • $15]')\n",
    "print(f\"Flagship input pricing: ${round(flagship_input_price, 2)} or ₱{round(flagship_input_price_peso, 2)}\")\n",
    "print(f\"Flagship output pricing: ${round(flagship_output_price, 2)} or ₱{round(flagship_output_price_peso, 2)}\")"
   ]
  },
  {
   "cell_type": "markdown",
   "id": "4a121a54-a02c-4ae0-b432-647ca900ea13",
   "metadata": {},
   "source": [
    "### Price of answering one ticket"
   ]
  },
  {
   "cell_type": "code",
   "execution_count": 159,
   "id": "6081a8cd-19e9-4444-b208-d516afb5477c",
   "metadata": {},
   "outputs": [],
   "source": [
    "problem_prompt = 1023\n",
    "problem_context = 453\n",
    "answer_prompt = 604\n",
    "answer_context = 453\n",
    "\n",
    "core_problem = 53\n",
    "query_and_specific_issue = 10\n",
    "answer = 88\n",
    "priority = 5"
   ]
  },
  {
   "cell_type": "code",
   "execution_count": 160,
   "id": "68defdf3-eff6-4126-8a8b-653d881be489",
   "metadata": {},
   "outputs": [],
   "source": [
    "total_input_tokens = problem_prompt + problem_context + answer_prompt + answer_context\n",
    "total_output_tokens = core_problem + query_and_specific_issue + answer + priority"
   ]
  },
  {
   "cell_type": "code",
   "execution_count": 161,
   "id": "bdacb8fc-52e5-4df0-85c9-db6aa48a6c23",
   "metadata": {},
   "outputs": [],
   "source": [
    "mini_input_price = (total_input_tokens / 1e6) * mini_input_pricing\n",
    "mini_output_price = (total_output_tokens / 1e6) * mini_output_pricing\n",
    "\n",
    "mini_input_price_peso = mini_input_price * dollar_php_rate\n",
    "mini_output_price_peso = mini_output_price * dollar_php_rate"
   ]
  },
  {
   "cell_type": "code",
   "execution_count": 162,
   "id": "55bb1409-19d5-4dec-803e-f90a6a2eae27",
   "metadata": {},
   "outputs": [],
   "source": [
    "flagship_input_price = (total_input_tokens / 1e6) * flagship_input_pricing\n",
    "flagship_output_price = (total_output_tokens / 1e6) * flagship_output_pricing\n",
    "\n",
    "flagship_input_price_peso = flagship_input_price * dollar_php_rate\n",
    "flagship_output_price_peso = flagship_output_price * dollar_php_rate"
   ]
  },
  {
   "cell_type": "code",
   "execution_count": 168,
   "id": "9e431332-ee25-4479-acdc-a2f78f0a7023",
   "metadata": {},
   "outputs": [
    {
     "name": "stdout",
     "output_type": "stream",
     "text": [
      "COST OF ANSWERING ONE TICKET\n",
      "Total input tokens: 2,533\n",
      "Total output tokens: 156\n",
      "\n",
      "Dollar to Peso: 56.62\n",
      "\n",
      "GPT-4o mini (Cheap) [I/O $0.15 • $0.6]\n",
      "Mini input pricing: $0.00037995 or ₱0.02\n",
      "Mini output pricing: $9.36e-05 or ₱0.01\n",
      "\n",
      "ChatGPT-4o latest (Flagship) [I/O $5 • $15]\n",
      "Flagship input pricing: $0.013 or ₱0.72\n",
      "Flagship output pricing: $0.00234 or ₱0.13\n"
     ]
    }
   ],
   "source": [
    "print(\"COST OF ANSWERING ONE TICKET\")\n",
    "\n",
    "print(f\"Total input tokens: {total_input_tokens:,}\")\n",
    "print(f\"Total output tokens: {total_output_tokens:,}\")\n",
    "print()\n",
    "\n",
    "print(f\"Dollar to Peso: {dollar_php_rate}\")\n",
    "print()\n",
    "\n",
    "print(f'GPT-4o mini (Cheap) [I/O $0.15 • $0.6]')\n",
    "print(f\"Mini input pricing: ${mini_input_price} or ₱{round(mini_input_price_peso, 2)}\")\n",
    "print(f\"Mini output pricing: ${mini_output_price} or ₱{round(mini_output_price_peso, 2)}\")\n",
    "print()\n",
    "\n",
    "print(f'ChatGPT-4o latest (Flagship) [I/O $5 • $15]')\n",
    "print(f\"Flagship input pricing: ${round(flagship_input_price, 3)} or ₱{round(flagship_input_price_peso, 2)}\")\n",
    "print(f\"Flagship output pricing: ${flagship_output_price} or ₱{round(flagship_output_price_peso, 2)}\")"
   ]
  },
  {
   "cell_type": "markdown",
   "id": "7ca71580-ec57-4999-83e2-d6ac1d14dab5",
   "metadata": {},
   "source": [
    "### Price of answering tickets per month"
   ]
  },
  {
   "cell_type": "code",
   "execution_count": 151,
   "id": "a375299f-45ae-4248-b45c-7d6c0f4d466e",
   "metadata": {},
   "outputs": [
    {
     "data": {
      "text/plain": [
       "2027.6666666666667"
      ]
     },
     "execution_count": 151,
     "metadata": {},
     "output_type": "execute_result"
    }
   ],
   "source": [
    "total_tickets_month"
   ]
  },
  {
   "cell_type": "code",
   "execution_count": 152,
   "id": "986f2a1a-d911-4a3f-b69a-a6c1bdaedfab",
   "metadata": {},
   "outputs": [],
   "source": [
    "problem_prompt = 1023\n",
    "problem_context = 453\n",
    "answer_prompt = 604\n",
    "answer_context = 453\n",
    "\n",
    "core_problem = 53\n",
    "query_and_specific_issue = 10\n",
    "answer = 88\n",
    "priority = 5"
   ]
  },
  {
   "cell_type": "code",
   "execution_count": 153,
   "id": "bbd302af-3de9-45c2-b10b-f31b96c877d6",
   "metadata": {},
   "outputs": [],
   "source": [
    "total_input_tokens = problem_prompt + problem_context + answer_prompt + answer_context\n",
    "total_output_tokens = core_problem + query_and_specific_issue + answer + priority"
   ]
  },
  {
   "cell_type": "code",
   "execution_count": 154,
   "id": "2c6ed10f-f5b4-4ba8-9a54-44073472816f",
   "metadata": {},
   "outputs": [],
   "source": [
    "montly_input_tokens = total_input_tokens * total_tickets_month\n",
    "montly_output_tokens = total_output_tokens * total_tickets_month"
   ]
  },
  {
   "cell_type": "code",
   "execution_count": 155,
   "id": "042d8389-6f48-4463-b5d8-a57afeb5c682",
   "metadata": {},
   "outputs": [],
   "source": [
    "mini_input_price = (montly_input_tokens / 1e6) * mini_input_pricing\n",
    "mini_output_price = (montly_output_tokens / 1e6) * mini_output_pricing\n",
    "\n",
    "mini_input_price_peso = mini_input_price * dollar_php_rate\n",
    "mini_output_price_peso = mini_output_price * dollar_php_rate"
   ]
  },
  {
   "cell_type": "code",
   "execution_count": 156,
   "id": "f05e4c7b-8564-40e6-a4ba-69233b6eb969",
   "metadata": {},
   "outputs": [],
   "source": [
    "flagship_input_price = (montly_input_tokens / 1e6) * flagship_input_pricing\n",
    "flagship_output_price = (montly_output_tokens / 1e6) * flagship_output_pricing\n",
    "\n",
    "flagship_input_price_peso = flagship_input_price * dollar_php_rate\n",
    "flagship_output_price_peso = flagship_output_price * dollar_php_rate"
   ]
  },
  {
   "cell_type": "code",
   "execution_count": 157,
   "id": "e9049024-8490-4681-b4bf-66fc1f8d7f08",
   "metadata": {},
   "outputs": [
    {
     "name": "stdout",
     "output_type": "stream",
     "text": [
      "MONTHLY COST OF ANSWERING TICKETS\n",
      "Monthly tickets: 2,027.67\n",
      "\n",
      "Total input tokens: 5,136,079.67\n",
      "Total output tokens: 316,316.0\n",
      "\n",
      "Dollar to Peso: 56.62\n",
      "\n",
      "GPT-4o mini (Cheap) [I/O $0.15 • $0.6]\n",
      "Mini input pricing: $0.77 or ₱43.62\n",
      "Mini output pricing: $0.19 or ₱10.75\n",
      "\n",
      "ChatGPT-4o latest (Flagship) [I/O $5 • $15]\n",
      "Flagship input pricing: $25.68 or ₱1,454.02\n",
      "Flagship output pricing: $4.74 or ₱268.65\n"
     ]
    }
   ],
   "source": [
    "print(\"MONTHLY COST OF ANSWERING TICKETS\")\n",
    "\n",
    "print(f\"Monthly tickets: {round(total_tickets_month, 2):,}\")\n",
    "print()\n",
    "\n",
    "print(f\"Total input tokens: {round(montly_input_tokens, 2):,}\")\n",
    "print(f\"Total output tokens: {round(montly_output_tokens, 2):,}\")\n",
    "print()\n",
    "\n",
    "print(f\"Dollar to Peso: {dollar_php_rate}\")\n",
    "print()\n",
    "\n",
    "print(f'GPT-4o mini (Cheap) [I/O $0.15 • $0.6]')\n",
    "print(f\"Mini input pricing: ${round(mini_input_price, 2):,} or ₱{round(mini_input_price_peso, 2):,}\")\n",
    "print(f\"Mini output pricing: ${round(mini_output_price, 2):,} or ₱{round(mini_output_price_peso, 2):,}\")\n",
    "print()\n",
    "\n",
    "print(f'ChatGPT-4o latest (Flagship) [I/O $5 • $15]')\n",
    "print(f\"Flagship input pricing: ${round(flagship_input_price, 2):,} or ₱{round(flagship_input_price_peso, 2):,}\")\n",
    "print(f\"Flagship output pricing: ${round(flagship_output_price, 2):,} or ₱{round(flagship_output_price_peso, 2):,}\")"
   ]
  },
  {
   "cell_type": "markdown",
   "id": "0e81b14e-e837-474b-98b1-8e6df16e63be",
   "metadata": {},
   "source": [
    "-----"
   ]
  },
  {
   "cell_type": "code",
   "execution_count": 80,
   "id": "5310e859-ea2d-42f0-9da0-c5da71e17926",
   "metadata": {},
   "outputs": [
    {
     "data": {
      "text/plain": [
       "0.223539875481767"
      ]
     },
     "execution_count": 80,
     "metadata": {},
     "output_type": "execute_result"
    }
   ],
   "source": [
    "constant = 754 / 3373\n",
    "constant"
   ]
  },
  {
   "cell_type": "code",
   "execution_count": null,
   "id": "b6c25fca-9ea1-4bd3-ab00-a17bbb204732",
   "metadata": {},
   "outputs": [],
   "source": []
  },
  {
   "cell_type": "code",
   "execution_count": null,
   "id": "b2db11e5-349b-458a-b214-d30e60a38e69",
   "metadata": {},
   "outputs": [],
   "source": []
  },
  {
   "cell_type": "code",
   "execution_count": null,
   "id": "f137f987-360a-436d-b44e-a8dc7b67574c",
   "metadata": {},
   "outputs": [],
   "source": []
  },
  {
   "cell_type": "code",
   "execution_count": null,
   "id": "2f29dcb5-354d-4ccc-a95d-95fbbf8d7f32",
   "metadata": {},
   "outputs": [],
   "source": []
  },
  {
   "cell_type": "code",
   "execution_count": null,
   "id": "e66023b6-363f-4382-b95a-318ac5f373a1",
   "metadata": {},
   "outputs": [],
   "source": [
    "prompt_template = \"\"\"\n",
    "## ROLE & CONTEXT\n",
    "You are a customer support representative for Tindahang Tapat, a digital platform enabling sari-sari stores to order groceries via mobile phone. Generate appropriate responses using only the provided knowledge base context.\n",
    "\n",
    "## PRIMARY OBJECTIVE\n",
    "Deliver accurate, helpful solutions to customer problems based strictly on available context information, while maintaining professional service standards.\n",
    "\n",
    "## RESPONSE METHODOLOGY\n",
    "\n",
    "### Content Requirements\n",
    "- **Context fidelity**: Use ONLY information from the provided context\n",
    "- **Solution focus**: Prioritize actionable steps and clear guidance\n",
    "- **Completeness**: Address all aspects of the customer's problem when context allows\n",
    "- **Accuracy**: Never infer or assume details not explicitly stated in context\n",
    "\n",
    "### Communication Standards\n",
    "- **Professional tone**: Courteous, confident, and solution-oriented\n",
    "- **Filipino market awareness**: Use terminology familiar to sari-sari store owners\n",
    "- **Clarity**: Avoid technical jargon; use simple, direct language\n",
    "- **Brevity**: Concise responses (2-4 sentences) that fully address the issue\n",
    "\n",
    "### Fallback Protocol\n",
    "When context is insufficient, use exactly: *\"I don't have specific information about this issue in my current resources. Please contact our support team at [support contact] for immediate assistance with your concern.\"*\n",
    "\n",
    "## INPUT DATA\n",
    "\n",
    "### Knowledge Base Context\n",
    "```\n",
    "{context}\n",
    "```\n",
    "\n",
    "### Customer Problem\n",
    "```\n",
    "{problem}\n",
    "```\n",
    "\n",
    "## RESPONSE GENERATION RULES\n",
    "\n",
    "### Content Validation\n",
    "1. **Context check**: Ensure solution exists in provided context\n",
    "2. **Completeness check**: Verify all problem aspects are addressed\n",
    "3. **Accuracy check**: Confirm no assumptions beyond context are made\n",
    "4. **Tone check**: Maintain professional, helpful customer service voice\n",
    "\n",
    "### Quality Standards\n",
    "- **Actionable**: Include specific steps when solutions are available\n",
    "- **Comprehensive**: Address root cause when context provides sufficient detail\n",
    "- **Preventive**: Mention prevention tips if included in context\n",
    "- **Follow-up ready**: Set clear expectations for next steps if needed\n",
    "\n",
    "## OUTPUT REQUIREMENTS\n",
    "With no additional commentary, explanations, or formatting, always return output in the following two sections:\n",
    "\n",
    "ANSWER:  \n",
    "[Provide a complete customer response based on context - 2-4 sentences addressing their problem with specific, actionable guidance in Taglish. If the context does not include relevant information, use exactly: \"ANSWER: I don't have specific information about this issue in my current resources. Please contact our support team at [support contact] for immediate assistance with your concern.\"]\n",
    "\n",
    "PRIORITY:  \n",
    "[Provide one of the following values only: Low, Medium, High, Urgent, or NONE. If the fallback answer was used, return PRIORITY as NONE.]\n",
    "\"\"\"\n",
    "\n",
    "prompt = prompt_template.format(context=\"\", problem=problem)\n",
    "prompt_len = len(prompt)\n",
    "\n",
    "model = \"gpt-4o-mini\"\n",
    "encoding = tiktoken.encoding_for_model(model)\n",
    "mini_tokens = len(encoding.encode(prompt))\n",
    "\n",
    "model = \"chatgpt-4o-latest\"\n",
    "encoding = tiktoken.encoding_for_model(model)\n",
    "big_tokens = len(encoding.encode(prompt))\n",
    "\n",
    "print(f'Prompt length: {prompt_len}')\n",
    "print(f'GPT-4o mini tokens: {mini_tokens}')\n",
    "print(f'ChatGPT-4o latest tokens: {big_tokens}')"
   ]
  },
  {
   "cell_type": "code",
   "execution_count": 103,
   "id": "d22aa9e8-d350-4678-844d-8273089188b5",
   "metadata": {},
   "outputs": [
    {
     "name": "stdout",
     "output_type": "stream",
     "text": [
      "Prompt length: 366\n",
      "GPT-4o mini tokens: 88\n",
      "ChatGPT-4o latest tokens: 88\n"
     ]
    }
   ],
   "source": [
    "problem = \"\"\n",
    "resolution = \"Para makapagbago ng delivery address sa iyong order, siguraduhing nasa tamang bahagi ka ng order placement process kung saan makikita ang option para sa delivery details. Kung hindi mo pa rin mabago ang address, subukang ulitin ang proseso o i-refresh ang app. Kung magpapatuloy ang problema, puwede kang makipag-ugnayan sa aming support team para sa agarang tulong.\"\n",
    "\n",
    "model = \"gpt-4o-mini\"\n",
    "encoding = tiktoken.encoding_for_model(model)\n",
    "mini_tokens = len(encoding.encode(problem))\n",
    "mini_tokens += len(encoding.encode(resolution))\n",
    "\n",
    "model = \"chatgpt-4o-latest\"\n",
    "encoding = tiktoken.encoding_for_model(model)\n",
    "big_tokens = len(encoding.encode(problem))\n",
    "big_tokens += len(encoding.encode(resolution))\n",
    "\n",
    "print(f'Prompt length: {len(problem) + len(resolution)}')\n",
    "print(f'GPT-4o mini tokens: {mini_tokens}')\n",
    "print(f'ChatGPT-4o latest tokens: {big_tokens}')"
   ]
  },
  {
   "cell_type": "code",
   "execution_count": 36,
   "id": "851e2370-6413-42a6-a757-97751f210524",
   "metadata": {},
   "outputs": [
    {
     "data": {
      "text/plain": [
       "171"
      ]
     },
     "execution_count": 36,
     "metadata": {},
     "output_type": "execute_result"
    }
   ],
   "source": [
    "query_type_choices = [\"Product & Delivery Issues\",\"Product & Delivery Inquiries & Request\",\"Loyalty & Promotions\",\"APP Issues & Inquiries\",\"Miscellaneous Queries\",\"Store Account & Profile Management\", \"NONE\"]\n",
    "\n",
    "query_issues = \"\"\n",
    "\n",
    "for choice in query_type_choices:\n",
    "    query_issues += choice + \"\\n\"\n",
    "\n",
    "len(query_issues)"
   ]
  },
  {
   "cell_type": "code",
   "execution_count": 37,
   "id": "d05248ea-596d-41b1-854d-936ace812d42",
   "metadata": {},
   "outputs": [
    {
     "data": {
      "text/plain": [
       "3271"
      ]
     },
     "execution_count": 37,
     "metadata": {},
     "output_type": "execute_result"
    }
   ],
   "source": [
    "specific_issue_choices = [\"Additional order\",\"Advance delivery concern\",\"Assumed incorrect sukli\",\"Assumed missing items\",\"Bank transfer inquiry\",\"B.O. guidelines inquiry\",\"Cancellation of order due to delay\",\"Cancellation of order/items due to store situation\",\"Cancellation of double order\",\"Cancellation of order due to no cash\",\"Cancellation due to closed store upon delivery\",\"Check payment inquiry\",\"Complaint of ordered OS product\",\"Confirmation if ordered items are in stock\",\"Appreciation of good service\",\"Confirmation if the order has been received\",\"Container deposit inquiry\",\"Credit card inquiry\",\"Delivery inquiry\",\"Delivery reminders\",\"Different amount in app vs. received\",\"Discount inquiry\",\"Entire order unserved\",\"Excess items not included in SI\",\"Factory defect\",\"Faulty products\",\"First-time customer inquiry\",\"Follow-up on an order not placed\",\"Follow-up on delayed delivery\",\"Follow-up on unresolved concern\",\"Forgot/wrong box offloaded\",\"Gcash inquiry\",\"Gifts/Freebies inquiry\",\"Holiday schedule inquiry\",\"How to join inquiry\",\"Incorrect packaging\",\"Incorrect sukli\",\"Inquiry of actual vs. ordered amount\",\"Location suggestion/inquiry\",\"Minimum order inquiry\",\"Missing items included in SI\",\"Order pick-up request/inquiry\",\"Order via mobile/FB\",\"Ordered OS promo items\",\"Others\",\"Packaging reminders\",\"Pahabol na order after cut-off\",\"Price change inquiry\",\"Product inquiry/suggestions\",\"Received near expiry item\",\"Relay message to AG\",\"Request to reschedule delivery\",\"Requested a specific time for delivery\",\"Request to deliver 2 orders together\",\"Request to deliver to another address\",\"Request to re-deliver due to closed store\",\"Request to replace wrong ordered SKU\",\"Request to separate SI of two orders\",\"Store accessories inquiry\",\"Stock availability inquiry\",\"VAT/Receipt confusion\",\"Warehouse walk-in request\",\"Wrong variant received\",\"KPM inquiry\",\"Total points inquiry\",\"Total ticket inquiry\",\"Content quantity per box inquiry\",\"Request to cancel if undelivered\",\"Request for advance delivery\",\"Paid excess amount\",\"Claiming of prize/voucher\",\"How to redeem points\",\"To redeem points\",\"CRM entry\",\"Wrong receipt received\",\"Receipt doubled\",\"Follow-up on prize\",\"Application crashes\",\"Application inquiry\",\"Assumed REORDER button as EDIT for a sent order\",\"Cannot enter the app due to slow connection\",\"Cannot open the application\",\"Cannot order through application\",\"Cannot update app due to country settings\",\"Deactivate account\",\"Distorted image\",\"Google Play concerns\",\"High minimum quantity per order\",\"History deletion\",\"How to edit sent order\",\"How to log in\",\"How to log in on multiple devices\",\"Huawei issue\",\"iOS inquiry\",\"Navigation issues\",\"Network error\",\"No delivery schedule in the app\",\"Platform usage\",\"Points suggestion\",\"Price/unit is incorrect\",\"Recovery of account\",\"Re-download of application\",\"Request a feature to edit sent order\",\"Slow internet connection\",\"SSL handshake issue\",\"UI/UX concerns\",\"Updating errors\",\"Wrong delivery schedule in app\",\"Wrong product photo\",\"Wrong price\",\"Wrong quantity\",\"Ask to be verified after re-signing up\",\"Assist in signing up\",\"Cancellation of registration\",\"Edit of user credentials\",\"Follow-up visit to add address\",\"Follow-up verification\",\"Follow-up visit to change address\",\"Forgotten password/Change of password\",\"Request to change address\",\"Request to change number\",\"Request to edit store name\",\"Request to recover account\",\"Problem with delivery team\",\"Availed credit\",\"Closed app inquiry\",\"Requesting for donations\",\"Received wrong order\", \"NONE\"]\n",
    "\n",
    "specific_issues = \"\"\n",
    "\n",
    "for choice in specific_issue_choices:\n",
    "    specific_issues += choice + \"\\n\"\n",
    "\n",
    "len(specific_issues)"
   ]
  },
  {
   "cell_type": "code",
   "execution_count": 38,
   "id": "cfc790fd-cc42-403a-9142-ab1045bf3925",
   "metadata": {},
   "outputs": [
    {
     "data": {
      "text/plain": [
       "257"
      ]
     },
     "execution_count": 38,
     "metadata": {},
     "output_type": "execute_result"
    }
   ],
   "source": [
    "problem = \"Problem: Customer experienced difficulty with delivery address and subsequent order placement due to application unavailability. The customer initially requested to change their delivery address. The application became unresponsive after the address change.\"\n",
    "len(problem)"
   ]
  },
  {
   "cell_type": "code",
   "execution_count": 85,
   "id": "20122650-1095-4ae3-a237-8fb7fd461d41",
   "metadata": {},
   "outputs": [
    {
     "data": {
      "text/plain": [
       "13990"
      ]
     },
     "execution_count": 85,
     "metadata": {},
     "output_type": "execute_result"
    }
   ],
   "source": [
    "# Failure ticket\n",
    "ticket_id"
   ]
  },
  {
   "cell_type": "markdown",
   "id": "35156ba2-d47c-4969-811d-a93dd7f528c0",
   "metadata": {},
   "source": [
    "'created_at': '2025-07-03T00:55:24Z'\n"
   ]
  },
  {
   "cell_type": "markdown",
   "id": "8adba4f2-7c0d-4052-8b2d-224efbb55ed3",
   "metadata": {},
   "source": [
    "tickets_url = f\"https://nueca.freshdesk.com/api/v2/tickets/7133\"\n",
    "ticket_description = requests.get(tickets_url, headers=headers, auth=auth).json()\n",
    "\n",
    "date_str = ticket_description['created_at']\n",
    "dt = datetime.strptime(date_str, \"%Y-%m-%dT%H:%M:%SZ\")\n",
    "month = dt.month\n",
    "month"
   ]
  },
  {
   "cell_type": "markdown",
   "id": "a11961f2-1b96-43fc-a9c2-ec6a5b1243a8",
   "metadata": {},
   "source": [
    "date_str"
   ]
  },
  {
   "cell_type": "code",
   "execution_count": null,
   "id": "ad25e5a1-d106-4e1c-9f40-33ac5990df7f",
   "metadata": {},
   "outputs": [],
   "source": []
  }
 ],
 "metadata": {
  "kernelspec": {
   "display_name": "Python 3 (ipykernel)",
   "language": "python",
   "name": "python3"
  },
  "language_info": {
   "codemirror_mode": {
    "name": "ipython",
    "version": 3
   },
   "file_extension": ".py",
   "mimetype": "text/x-python",
   "name": "python",
   "nbconvert_exporter": "python",
   "pygments_lexer": "ipython3",
   "version": "3.12.3"
  }
 },
 "nbformat": 4,
 "nbformat_minor": 5
}
