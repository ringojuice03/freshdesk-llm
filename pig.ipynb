{
 "cells": [
  {
   "cell_type": "code",
   "execution_count": 78,
   "id": "bc051f0f-5f10-4fa5-9c97-f412999fb452",
   "metadata": {},
   "outputs": [
    {
     "data": {
      "text/plain": [
       "True"
      ]
     },
     "execution_count": 78,
     "metadata": {},
     "output_type": "execute_result"
    }
   ],
   "source": [
    "import os\n",
    "from datetime import datetime\n",
    "import requests\n",
    "import tiktoken\n",
    "import json\n",
    "from typing import Dict, Tuple\n",
    "from dotenv import load_dotenv\n",
    "load_dotenv()\n",
    "\n",
    "model = \"gpt-4o-mini\"\n",
    "encoding = tiktoken.encoding_for_model(model)"
   ]
  },
  {
   "cell_type": "code",
   "execution_count": 79,
   "id": "600b1def-e77e-4ca1-a4b5-07143f822ace",
   "metadata": {},
   "outputs": [],
   "source": [
    "headers = {\n",
    "    'Content-Type': 'application/json'\n",
    "}\n",
    "freshdesk_api_key = os.environ.get('FRESHDESK_API_KEY')\n",
    "auth = (freshdesk_api_key, 'X')\n",
    "domain = 'nueca'"
   ]
  },
  {
   "cell_type": "markdown",
   "id": "bf6c92e5-6aff-413c-9a57-15566846fb93",
   "metadata": {},
   "source": [
    "import requests\n",
    "\n",
    "tickets_url = f\"https://{domain}.freshdesk.com/api/v2/tickets?order_by=created_at&order_type=desc&per_page=3\"\n",
    "ticket_response = requests.get(tickets_url, headers=headers, auth=auth)\n",
    "tickets = ticket_response.json() if ticket_response.status_code == 200 else []"
   ]
  },
  {
   "cell_type": "code",
   "execution_count": 80,
   "id": "8f130778-d222-4c99-b46c-f7e38204e063",
   "metadata": {},
   "outputs": [],
   "source": [
    "def parse_freshdesk_conversations(conversations, ticket_description) -> dict:\n",
    "    # sorted_conversations = sorted(conversations, key=lambda x: x['created_at'])\n",
    "    \n",
    "    customer_conversation = \"\"\n",
    "    agent_conversation = \"\"\n",
    "\n",
    "    message_data = {\n",
    "        'id': ticket_description['id'],\n",
    "        'body_text': ticket_description['subject'],\n",
    "        'role': 'Customer'\n",
    "    }\n",
    "\n",
    "    customer_conversation += message_data['body_text'] + \"\\n\"\n",
    "\n",
    "    for i, conv in enumerate(conversations, 2):\n",
    "        message_data = {\n",
    "            'body_text': conv['body_text'],\n",
    "        }\n",
    "        if message_data['body_text'] == '':\n",
    "            continue\n",
    "        if conv['incoming']:\n",
    "            customer_conversation += message_data['body_text'] + \"\\n\"\n",
    "        else:\n",
    "            agent_conversation += message_data['body_text'] + \"\\n\"\n",
    "\n",
    "    return {\n",
    "        'customer_conversation': customer_conversation,\n",
    "        'agent_conversation': agent_conversation,\n",
    "    }"
   ]
  },
  {
   "cell_type": "code",
   "execution_count": 81,
   "id": "3337c864-6f30-48fe-bd10-f0f288da5488",
   "metadata": {},
   "outputs": [],
   "source": [
    "def get_all_conversations(ticket_id, ticket_description):\n",
    "    conversations = []\n",
    "    url = f\"https://{domain}.freshdesk.com/api/v2/tickets/{ticket_id}/conversations\"\n",
    "\n",
    "    while url:\n",
    "        response = requests.get(url, headers=headers, auth=auth)\n",
    "        if response.status_code != 200:\n",
    "            break\n",
    "        data = response.json()\n",
    "        conversations.extend(data)\n",
    "        link = response.headers.get('link')\n",
    "        if link and 'rel=\"next\"' in link:\n",
    "            import re\n",
    "            match = re.search(r'<([^>]+)>;\\s*rel=\"next\"', link)\n",
    "            url = match.group(1) if match else None\n",
    "            print(\"has pagination\")\n",
    "        else:\n",
    "            url = None\n",
    "\n",
    "    # print(conversations)\n",
    "    parsed_conversations = parse_freshdesk_conversations(conversations, ticket_description)\n",
    "\n",
    "    return parsed_conversations"
   ]
  },
  {
   "cell_type": "code",
   "execution_count": 82,
   "id": "8887dfd3-b8c1-4728-ac87-26da9db5df78",
   "metadata": {},
   "outputs": [],
   "source": [
    "def add_to_map(mmap: Dict[int, Tuple[int, int]], key: int, value: Tuple[int, int]):\n",
    "    if key in mmap:\n",
    "        existing = mmap[key]\n",
    "        mmap[key] = (existing[0] + value[0], existing[1] + value[1])\n",
    "    else:\n",
    "        mmap[key] = value\n",
    "\n",
    "    return mmap"
   ]
  },
  {
   "cell_type": "code",
   "execution_count": 83,
   "id": "60ea2afd-85e3-4616-b20c-e5f0642343b8",
   "metadata": {},
   "outputs": [
    {
     "data": {
      "text/plain": [
       "{}"
      ]
     },
     "execution_count": 83,
     "metadata": {},
     "output_type": "execute_result"
    }
   ],
   "source": [
    "mmap: Dict[int, Tuple[int, int]] = {}\n",
    "mmap"
   ]
  },
  {
   "cell_type": "code",
   "execution_count": 84,
   "id": "60a3cb5e-1b1e-43ec-8a62-25da77e18f1e",
   "metadata": {},
   "outputs": [
    {
     "name": "stdout",
     "output_type": "stream",
     "text": [
      "ID: 7800 - {12: (43, 132), 1: (10153, 26336)}\n",
      "-----\n",
      "ID: 7900 - {12: (43, 132), 1: (20200, 50096)}\n",
      "-----\n",
      "ID: 8000 - {12: (43, 132), 1: (37086, 68047)}\n",
      "-----\n",
      "ID: 8100 - {12: (43, 132), 1: (48091, 74466)}\n",
      "-----\n",
      "ID: 8200 - {12: (43, 132), 1: (66583, 99802)}\n",
      "-----\n",
      "ID: 8300 - {12: (43, 132), 1: (81349, 125663)}\n",
      "-----\n",
      "has pagination\n",
      "has pagination\n",
      "ID: 8400 - {12: (43, 132), 1: (102057, 156239)}\n",
      "-----\n",
      "has pagination\n",
      "ID: 8500 - {12: (43, 132), 1: (118831, 180788)}\n",
      "-----\n",
      "ID: 8600 - {12: (43, 132), 1: (131362, 200941)}\n",
      "-----\n",
      "ID: 8700 - {12: (43, 132), 1: (144017, 220459)}\n",
      "-----\n",
      "ID: 8800 - {12: (43, 132), 1: (157895, 242813)}\n",
      "-----\n",
      "ID: 8900 - {12: (43, 132), 1: (173878, 270800)}\n",
      "-----\n",
      "ID: 9000 - {12: (43, 132), 1: (188791, 290088)}\n",
      "-----\n",
      "has pagination\n",
      "ID: 9100 - {12: (43, 132), 1: (205200, 316437)}\n",
      "-----\n",
      "has pagination\n",
      "ID: 9200 - {12: (43, 132), 1: (220606, 341271)}\n",
      "-----\n",
      "ID: 9300 - {12: (43, 132), 1: (234385, 365790)}\n",
      "-----\n",
      "ID: 9400 - {12: (43, 132), 1: (252650, 399169)}\n",
      "-----\n",
      "has pagination\n",
      "ID: 9500 - {12: (43, 132), 1: (271846, 427853)}\n",
      "-----\n",
      "ID: 9600 - {12: (43, 132), 1: (289496, 459902)}\n",
      "-----\n",
      "ID: 9700 - {12: (43, 132), 1: (306363, 490144)}\n",
      "-----\n",
      "ID: 9800 - {12: (43, 132), 1: (320950, 513988)}\n",
      "-----\n",
      "ID: 9900 - {12: (43, 132), 1: (338152, 541595)}\n",
      "-----\n",
      "has pagination\n",
      "has pagination\n",
      "has pagination\n",
      "ID: 10000 - {12: (43, 132), 1: (360001, 580313)}\n",
      "-----\n",
      "has pagination\n",
      "ID: 10100 - {12: (43, 132), 1: (381685, 622657)}\n",
      "-----\n",
      "has pagination\n",
      "ID: 10200 - {12: (43, 132), 1: (400559, 663689)}\n",
      "-----\n",
      "ID: 10300 - {12: (43, 132), 1: (403353, 669959), 2: (16362, 34933)}\n",
      "-----\n",
      "has pagination\n",
      "has pagination\n",
      "ID: 10400 - {12: (43, 132), 1: (403353, 669959), 2: (44111, 75822)}\n",
      "-----\n",
      "has pagination\n",
      "ID: 10500 - {12: (43, 132), 1: (403353, 669959), 2: (72222, 121590)}\n",
      "-----\n",
      "ID: 10600 - {12: (43, 132), 1: (403353, 669959), 2: (96225, 171217)}\n",
      "-----\n",
      "ID: 10700 - {12: (43, 132), 1: (403353, 669959), 2: (114366, 207975)}\n",
      "-----\n",
      "has pagination\n",
      "has pagination\n",
      "ID: 10800 - {12: (43, 132), 1: (403353, 669959), 2: (135170, 247253)}\n",
      "-----\n",
      "has pagination\n",
      "ID: 10900 - {12: (43, 132), 1: (403353, 669959), 2: (153255, 289961)}\n",
      "-----\n",
      "ID: 11000 - {12: (43, 132), 1: (403353, 669959), 2: (174410, 334113)}\n",
      "-----\n",
      "has pagination\n",
      "has pagination\n",
      "ID: 11100 - {12: (43, 132), 1: (403353, 669959), 2: (195851, 375437)}\n",
      "-----\n",
      "has pagination\n",
      "has pagination\n",
      "has pagination\n",
      "has pagination\n",
      "has pagination\n",
      "ID: 11200 - {12: (43, 132), 1: (403353, 669959), 2: (220080, 418714)}\n",
      "-----\n",
      "has pagination\n",
      "has pagination\n",
      "ID: 11300 - {12: (43, 132), 1: (403353, 669959), 2: (242819, 463341)}\n",
      "-----\n",
      "has pagination\n",
      "has pagination\n",
      "ID: 11400 - {12: (43, 132), 1: (403353, 669959), 2: (266930, 508845)}\n",
      "-----\n",
      "has pagination\n",
      "has pagination\n",
      "has pagination\n",
      "ID: 11500 - {12: (43, 132), 1: (403353, 669959), 2: (285188, 547574)}\n",
      "-----\n",
      "has pagination\n",
      "ID: 11600 - {12: (43, 132), 1: (403353, 669959), 2: (310678, 591007)}\n",
      "-----\n",
      "has pagination\n",
      "has pagination\n",
      "ID: 11700 - {12: (43, 132), 1: (403353, 669959), 2: (333833, 634597)}\n",
      "-----\n",
      "has pagination\n",
      "has pagination\n",
      "ID: 11800 - {12: (43, 132), 1: (403353, 669959), 2: (353361, 678286)}\n",
      "-----\n",
      "has pagination\n",
      "has pagination\n",
      "has pagination\n",
      "ID: 11900 - {12: (43, 132), 1: (403353, 669959), 2: (356369, 684548), 3: (18631, 34753)}\n",
      "-----\n",
      "has pagination\n",
      "has pagination\n",
      "has pagination\n",
      "has pagination\n",
      "has pagination\n",
      "has pagination\n",
      "has pagination\n",
      "has pagination\n",
      "ID: 12000 - {12: (43, 132), 1: (403353, 669959), 2: (356369, 684548), 3: (46642, 83133)}\n",
      "-----\n",
      "ID: 12100 - {12: (43, 132), 1: (403353, 669959), 2: (356369, 684548), 3: (73659, 137104)}\n",
      "-----\n",
      "ID: 12200 - {12: (43, 132), 1: (403353, 669959), 2: (356369, 684548), 3: (94410, 181040)}\n",
      "-----\n",
      "has pagination\n",
      "has pagination\n",
      "ID: 12300 - {12: (43, 132), 1: (403353, 669959), 2: (356369, 684548), 3: (114790, 223291)}\n",
      "-----\n",
      "ID: 12400 - {12: (43, 132), 1: (403353, 669959), 2: (356369, 684548), 3: (137425, 265311)}\n",
      "-----\n",
      "has pagination\n",
      "has pagination\n",
      "ID: 12500 - {12: (43, 132), 1: (403353, 669959), 2: (356369, 684548), 3: (165079, 318175)}\n",
      "-----\n",
      "has pagination\n",
      "ID: 12600 - {12: (43, 132), 1: (403353, 669959), 2: (356369, 684548), 3: (184117, 363977)}\n",
      "-----\n",
      "has pagination\n",
      "ID: 12700 - {12: (43, 132), 1: (403353, 669959), 2: (356369, 684548), 3: (205415, 403018)}\n",
      "-----\n",
      "has pagination\n",
      "has pagination\n",
      "ID: 12800 - {12: (43, 132), 1: (403353, 669959), 2: (356369, 684548), 3: (226730, 444115)}\n",
      "-----\n",
      "ID: 12900 - {12: (43, 132), 1: (403353, 669959), 2: (356369, 684548), 3: (245559, 488516)}\n",
      "-----\n",
      "has pagination\n",
      "ID: 13000 - {12: (43, 132), 1: (403353, 669959), 2: (356369, 684548), 3: (262389, 536342)}\n",
      "-----\n",
      "ID: 13100 - {12: (43, 132), 1: (403353, 669959), 2: (356369, 684548), 3: (281742, 578009)}\n",
      "-----\n",
      "ID: 13200 - {12: (43, 132), 1: (403353, 669959), 2: (356369, 684548), 3: (300448, 618323)}\n",
      "-----\n",
      "has pagination\n",
      "has pagination\n",
      "has pagination\n",
      "has pagination\n",
      "ID: 13300 - {12: (43, 132), 1: (403353, 669959), 2: (356369, 684548), 3: (320815, 655574)}\n",
      "-----\n",
      "has pagination\n",
      "has pagination\n",
      "ID: 13400 - {12: (43, 132), 1: (403353, 669959), 2: (356369, 684548), 3: (346176, 693073)}\n",
      "-----\n",
      "has pagination\n",
      "has pagination\n",
      "ID: 13500 - {12: (43, 132), 1: (403353, 669959), 2: (356369, 684548), 3: (364873, 724569)}\n",
      "-----\n",
      "has pagination\n",
      "ID: 13600 - {12: (43, 132), 1: (403353, 669959), 2: (356369, 684548), 3: (383511, 760847)}\n",
      "-----\n",
      "ID: 13700 - {12: (43, 132), 1: (403353, 669959), 2: (356369, 684548), 3: (401846, 791479)}\n",
      "-----\n",
      "has pagination\n",
      "ID: 13800 - {12: (43, 132), 1: (403353, 669959), 2: (356369, 684548), 3: (418217, 821689)}\n",
      "-----\n",
      "ID: 13900 - {12: (43, 132), 1: (403353, 669959), 2: (356369, 684548), 3: (418523, 822324), 4: (16315, 30774)}\n",
      "-----\n"
     ]
    },
    {
     "ename": "JSONDecodeError",
     "evalue": "Expecting value: line 1 column 1 (char 0)",
     "output_type": "error",
     "traceback": [
      "\u001b[31m---------------------------------------------------------------------------\u001b[39m",
      "\u001b[31mJSONDecodeError\u001b[39m                           Traceback (most recent call last)",
      "\u001b[36mFile \u001b[39m\u001b[32m~/Documents/GitHub/freshdesk-llm/venv/lib/python3.12/site-packages/requests/models.py:976\u001b[39m, in \u001b[36mResponse.json\u001b[39m\u001b[34m(self, **kwargs)\u001b[39m\n\u001b[32m    975\u001b[39m \u001b[38;5;28;01mtry\u001b[39;00m:\n\u001b[32m--> \u001b[39m\u001b[32m976\u001b[39m     \u001b[38;5;28;01mreturn\u001b[39;00m \u001b[43mcomplexjson\u001b[49m\u001b[43m.\u001b[49m\u001b[43mloads\u001b[49m\u001b[43m(\u001b[49m\u001b[38;5;28;43mself\u001b[39;49m\u001b[43m.\u001b[49m\u001b[43mtext\u001b[49m\u001b[43m,\u001b[49m\u001b[43m \u001b[49m\u001b[43m*\u001b[49m\u001b[43m*\u001b[49m\u001b[43mkwargs\u001b[49m\u001b[43m)\u001b[49m\n\u001b[32m    977\u001b[39m \u001b[38;5;28;01mexcept\u001b[39;00m JSONDecodeError \u001b[38;5;28;01mas\u001b[39;00m e:\n\u001b[32m    978\u001b[39m     \u001b[38;5;66;03m# Catch JSON-related errors and raise as requests.JSONDecodeError\u001b[39;00m\n\u001b[32m    979\u001b[39m     \u001b[38;5;66;03m# This aliases json.JSONDecodeError and simplejson.JSONDecodeError\u001b[39;00m\n",
      "\u001b[36mFile \u001b[39m\u001b[32m/usr/lib/python3.12/json/__init__.py:346\u001b[39m, in \u001b[36mloads\u001b[39m\u001b[34m(s, cls, object_hook, parse_float, parse_int, parse_constant, object_pairs_hook, **kw)\u001b[39m\n\u001b[32m    343\u001b[39m \u001b[38;5;28;01mif\u001b[39;00m (\u001b[38;5;28mcls\u001b[39m \u001b[38;5;129;01mis\u001b[39;00m \u001b[38;5;28;01mNone\u001b[39;00m \u001b[38;5;129;01mand\u001b[39;00m object_hook \u001b[38;5;129;01mis\u001b[39;00m \u001b[38;5;28;01mNone\u001b[39;00m \u001b[38;5;129;01mand\u001b[39;00m\n\u001b[32m    344\u001b[39m         parse_int \u001b[38;5;129;01mis\u001b[39;00m \u001b[38;5;28;01mNone\u001b[39;00m \u001b[38;5;129;01mand\u001b[39;00m parse_float \u001b[38;5;129;01mis\u001b[39;00m \u001b[38;5;28;01mNone\u001b[39;00m \u001b[38;5;129;01mand\u001b[39;00m\n\u001b[32m    345\u001b[39m         parse_constant \u001b[38;5;129;01mis\u001b[39;00m \u001b[38;5;28;01mNone\u001b[39;00m \u001b[38;5;129;01mand\u001b[39;00m object_pairs_hook \u001b[38;5;129;01mis\u001b[39;00m \u001b[38;5;28;01mNone\u001b[39;00m \u001b[38;5;129;01mand\u001b[39;00m \u001b[38;5;129;01mnot\u001b[39;00m kw):\n\u001b[32m--> \u001b[39m\u001b[32m346\u001b[39m     \u001b[38;5;28;01mreturn\u001b[39;00m \u001b[43m_default_decoder\u001b[49m\u001b[43m.\u001b[49m\u001b[43mdecode\u001b[49m\u001b[43m(\u001b[49m\u001b[43ms\u001b[49m\u001b[43m)\u001b[49m\n\u001b[32m    347\u001b[39m \u001b[38;5;28;01mif\u001b[39;00m \u001b[38;5;28mcls\u001b[39m \u001b[38;5;129;01mis\u001b[39;00m \u001b[38;5;28;01mNone\u001b[39;00m:\n",
      "\u001b[36mFile \u001b[39m\u001b[32m/usr/lib/python3.12/json/decoder.py:337\u001b[39m, in \u001b[36mJSONDecoder.decode\u001b[39m\u001b[34m(self, s, _w)\u001b[39m\n\u001b[32m    333\u001b[39m \u001b[38;5;250m\u001b[39m\u001b[33;03m\"\"\"Return the Python representation of ``s`` (a ``str`` instance\u001b[39;00m\n\u001b[32m    334\u001b[39m \u001b[33;03mcontaining a JSON document).\u001b[39;00m\n\u001b[32m    335\u001b[39m \n\u001b[32m    336\u001b[39m \u001b[33;03m\"\"\"\u001b[39;00m\n\u001b[32m--> \u001b[39m\u001b[32m337\u001b[39m obj, end = \u001b[38;5;28;43mself\u001b[39;49m\u001b[43m.\u001b[49m\u001b[43mraw_decode\u001b[49m\u001b[43m(\u001b[49m\u001b[43ms\u001b[49m\u001b[43m,\u001b[49m\u001b[43m \u001b[49m\u001b[43midx\u001b[49m\u001b[43m=\u001b[49m\u001b[43m_w\u001b[49m\u001b[43m(\u001b[49m\u001b[43ms\u001b[49m\u001b[43m,\u001b[49m\u001b[43m \u001b[49m\u001b[32;43m0\u001b[39;49m\u001b[43m)\u001b[49m\u001b[43m.\u001b[49m\u001b[43mend\u001b[49m\u001b[43m(\u001b[49m\u001b[43m)\u001b[49m\u001b[43m)\u001b[49m\n\u001b[32m    338\u001b[39m end = _w(s, end).end()\n",
      "\u001b[36mFile \u001b[39m\u001b[32m/usr/lib/python3.12/json/decoder.py:355\u001b[39m, in \u001b[36mJSONDecoder.raw_decode\u001b[39m\u001b[34m(self, s, idx)\u001b[39m\n\u001b[32m    354\u001b[39m \u001b[38;5;28;01mexcept\u001b[39;00m \u001b[38;5;167;01mStopIteration\u001b[39;00m \u001b[38;5;28;01mas\u001b[39;00m err:\n\u001b[32m--> \u001b[39m\u001b[32m355\u001b[39m     \u001b[38;5;28;01mraise\u001b[39;00m JSONDecodeError(\u001b[33m\"\u001b[39m\u001b[33mExpecting value\u001b[39m\u001b[33m\"\u001b[39m, s, err.value) \u001b[38;5;28;01mfrom\u001b[39;00m\u001b[38;5;250m \u001b[39m\u001b[38;5;28;01mNone\u001b[39;00m\n\u001b[32m    356\u001b[39m \u001b[38;5;28;01mreturn\u001b[39;00m obj, end\n",
      "\u001b[31mJSONDecodeError\u001b[39m: Expecting value: line 1 column 1 (char 0)",
      "\nDuring handling of the above exception, another exception occurred:\n",
      "\u001b[31mJSONDecodeError\u001b[39m                           Traceback (most recent call last)",
      "\u001b[36mCell\u001b[39m\u001b[36m \u001b[39m\u001b[32mIn[84]\u001b[39m\u001b[32m, line 10\u001b[39m\n\u001b[32m      8\u001b[39m \u001b[38;5;28;01mfor\u001b[39;00m ticket_id \u001b[38;5;129;01min\u001b[39;00m \u001b[38;5;28mrange\u001b[39m(\u001b[32m7713\u001b[39m, \u001b[32m22606\u001b[39m):\n\u001b[32m      9\u001b[39m     description_url = \u001b[33mf\u001b[39m\u001b[33m\"\u001b[39m\u001b[33mhttps://\u001b[39m\u001b[38;5;132;01m{\u001b[39;00mdomain\u001b[38;5;132;01m}\u001b[39;00m\u001b[33m.freshdesk.com/api/v2/tickets/\u001b[39m\u001b[38;5;132;01m{\u001b[39;00mticket_id\u001b[38;5;132;01m}\u001b[39;00m\u001b[33m\"\u001b[39m\n\u001b[32m---> \u001b[39m\u001b[32m10\u001b[39m     ticket_description = \u001b[43mrequests\u001b[49m\u001b[43m.\u001b[49m\u001b[43mget\u001b[49m\u001b[43m(\u001b[49m\u001b[43mdescription_url\u001b[49m\u001b[43m,\u001b[49m\u001b[43m \u001b[49m\u001b[43mheaders\u001b[49m\u001b[43m=\u001b[49m\u001b[43mheaders\u001b[49m\u001b[43m,\u001b[49m\u001b[43m \u001b[49m\u001b[43mauth\u001b[49m\u001b[43m=\u001b[49m\u001b[43mauth\u001b[49m\u001b[43m)\u001b[49m\u001b[43m.\u001b[49m\u001b[43mjson\u001b[49m\u001b[43m(\u001b[49m\u001b[43m)\u001b[49m\n\u001b[32m     12\u001b[39m     date_str = ticket_description[\u001b[33m'\u001b[39m\u001b[33mcreated_at\u001b[39m\u001b[33m'\u001b[39m]\n\u001b[32m     13\u001b[39m     dt = datetime.strptime(date_str, \u001b[33m\"\u001b[39m\u001b[33m%\u001b[39m\u001b[33mY-\u001b[39m\u001b[33m%\u001b[39m\u001b[33mm-\u001b[39m\u001b[38;5;132;01m%d\u001b[39;00m\u001b[33mT\u001b[39m\u001b[33m%\u001b[39m\u001b[33mH:\u001b[39m\u001b[33m%\u001b[39m\u001b[33mM:\u001b[39m\u001b[33m%\u001b[39m\u001b[33mSZ\u001b[39m\u001b[33m\"\u001b[39m)\n",
      "\u001b[36mFile \u001b[39m\u001b[32m~/Documents/GitHub/freshdesk-llm/venv/lib/python3.12/site-packages/requests/models.py:980\u001b[39m, in \u001b[36mResponse.json\u001b[39m\u001b[34m(self, **kwargs)\u001b[39m\n\u001b[32m    976\u001b[39m     \u001b[38;5;28;01mreturn\u001b[39;00m complexjson.loads(\u001b[38;5;28mself\u001b[39m.text, **kwargs)\n\u001b[32m    977\u001b[39m \u001b[38;5;28;01mexcept\u001b[39;00m JSONDecodeError \u001b[38;5;28;01mas\u001b[39;00m e:\n\u001b[32m    978\u001b[39m     \u001b[38;5;66;03m# Catch JSON-related errors and raise as requests.JSONDecodeError\u001b[39;00m\n\u001b[32m    979\u001b[39m     \u001b[38;5;66;03m# This aliases json.JSONDecodeError and simplejson.JSONDecodeError\u001b[39;00m\n\u001b[32m--> \u001b[39m\u001b[32m980\u001b[39m     \u001b[38;5;28;01mraise\u001b[39;00m RequestsJSONDecodeError(e.msg, e.doc, e.pos)\n",
      "\u001b[31mJSONDecodeError\u001b[39m: Expecting value: line 1 column 1 (char 0)"
     ]
    }
   ],
   "source": [
    "# 11810\n",
    "\n",
    "from IPython.core.interactiveshell import InteractiveShell\n",
    "InteractiveShell.ast_node_interactivity = \"all\"\n",
    "\n",
    "months = set(())\n",
    "\n",
    "for ticket_id in range(7713, 22606):\n",
    "    description_url = f\"https://{domain}.freshdesk.com/api/v2/tickets/{ticket_id}\"\n",
    "    ticket_description = requests.get(description_url, headers=headers, auth=auth).json()\n",
    "    \n",
    "    date_str = ticket_description['created_at']\n",
    "    dt = datetime.strptime(date_str, \"%Y-%m-%dT%H:%M:%SZ\")\n",
    "    month = dt.month\n",
    "\n",
    "    parsed_conversations = get_all_conversations(ticket_id, ticket_description)\n",
    "    \n",
    "    customer_messages = parsed_conversations['customer_conversation']\n",
    "    customer_length = len(customer_messages)\n",
    "    \n",
    "    agent_messages = parsed_conversations['agent_conversation']\n",
    "    agent_length = len(agent_messages)\n",
    "\n",
    "    mmap = add_to_map(mmap, month, (customer_length, agent_length))\n",
    "\n",
    "    if ticket_id % 100 == 0:\n",
    "        print(f'ID: {ticket_id} - {mmap}')\n",
    "        print(\"-----\")"
   ]
  },
  {
   "cell_type": "markdown",
   "id": "f04d58f9-ae86-41eb-9fc5-7d6903825676",
   "metadata": {},
   "source": []
  },
  {
   "cell_type": "code",
   "execution_count": 86,
   "id": "540f72ea-cf56-4dbc-9e68-0d8edbc5d4e9",
   "metadata": {},
   "outputs": [],
   "source": [
    "mmap = {1: (403353, 669959), 2: (356369, 684548), 3: (418523, 822324)}"
   ]
  },
  {
   "cell_type": "code",
   "execution_count": 7,
   "id": "37180b3a-6a6a-4f72-9653-23f2840a2ae3",
   "metadata": {},
   "outputs": [
    {
     "data": {
      "text/plain": [
       "3853"
      ]
     },
     "execution_count": 7,
     "metadata": {},
     "output_type": "execute_result"
    }
   ],
   "source": [
    "11566 - 7713"
   ]
  },
  {
   "cell_type": "code",
   "execution_count": 30,
   "id": "8d6d746a-8f65-43fd-b38c-2a150597af89",
   "metadata": {},
   "outputs": [
    {
     "data": {
      "text/plain": [
       "2011113"
      ]
     },
     "execution_count": 30,
     "metadata": {},
     "output_type": "execute_result"
    }
   ],
   "source": [
    "417780 + 669959 + 347650 + 575724"
   ]
  },
  {
   "cell_type": "code",
   "execution_count": 39,
   "id": "c66b2b57-8006-4f4f-92a0-5426fcda977e",
   "metadata": {},
   "outputs": [
    {
     "data": {
      "text/plain": [
       "521.960290682585"
      ]
     },
     "execution_count": 39,
     "metadata": {},
     "output_type": "execute_result"
    }
   ],
   "source": [
    "ans = 2011113 / 3853\n",
    "ans"
   ]
  },
  {
   "cell_type": "code",
   "execution_count": 85,
   "id": "4d637476-d2a2-458c-ab5c-29d3b6cda6ab",
   "metadata": {},
   "outputs": [
    {
     "data": {
      "text/plain": [
       "13990"
      ]
     },
     "execution_count": 85,
     "metadata": {},
     "output_type": "execute_result"
    }
   ],
   "source": [
    "ticket_id"
   ]
  },
  {
   "cell_type": "code",
   "execution_count": null,
   "id": "ca398a45-0f7c-4410-963e-20bd730cab9b",
   "metadata": {},
   "outputs": [],
   "source": [
    "tokens:\n",
    "\n",
    "get problem (conversation)\n",
    "    Input\n",
    "        - average conversation length = (ave customer + ave agent) ()\n",
    "        - problem_prompt (990 tokens)\n",
    "    Output\n",
    "        - problem and resolution(105 tokens)\n",
    "\n",
    "rag classification\n",
    "    Input\n",
    "        - \n",
    "\n",
    "rag\n",
    "\n",
    "\n",
    "search results 5 fetch\n",
    "average length "
   ]
  },
  {
   "cell_type": "code",
   "execution_count": 24,
   "id": "a52778b9-af29-4540-a07e-22c3cd484dc6",
   "metadata": {},
   "outputs": [
    {
     "name": "stdout",
     "output_type": "stream",
     "text": [
      "525\n"
     ]
    }
   ],
   "source": [
    "problem = \"Customer reported that delivery team took items and receipt but didn't provide replacement during order delivery. The issue occurred during the delivery process when the customer tried to return items. The customer is now awaiting the replacement items with their new order.\"\n",
    "resolution = \"Agent investigated the issue by asking the customer about their interaction with the delivery team. The resolution is pending as the agent is still gathering information about the customer's return of items to the delivery team. The case will be RESOLVED once the replacement items are confirmed to be delivered with the customer's next order.\"\n",
    "\n",
    "problem_tokens = len(encoding.encode(problem))\n",
    "resolution_tokens = len(encoding.encode(resolution))\n",
    "\n",
    "print((problem_tokens + resolution_tokens) * 5)"
   ]
  },
  {
   "cell_type": "code",
   "execution_count": 23,
   "id": "8ec9e832-0efa-4c2b-b7e3-a69e29778664",
   "metadata": {},
   "outputs": [
    {
     "name": "stdout",
     "output_type": "stream",
     "text": [
      "41\n",
      "59\n"
     ]
    }
   ],
   "source": [
    "problem = \"Customer's account verification process was delayed, preventing order placement for their store. The account verification was pending due to the absence of an agent visit. The customer was unable to place orders through their own account.\"\n",
    "resolution = \"The agent followed up with the assigned agent to verify the customer's store, and the verification was eventually completed after multiple follow-ups. The customer's account was verified after the agent visited the store, allowing the customer to place orders. The issue was RESOLVED after the agent's visit and subsequent verification.\"\n",
    "\n",
    "problem_tokens = len(encoding.encode(problem))\n",
    "resolution_tokens = len(encoding.encode(resolution))\n",
    "\n",
    "print(problem_tokens)\n",
    "print(resolution_tokens)"
   ]
  },
  {
   "cell_type": "code",
   "execution_count": null,
   "id": "d36b4ea9-b56e-45f5-9591-2072b7ff675f",
   "metadata": {},
   "outputs": [],
   "source": []
  },
  {
   "cell_type": "code",
   "execution_count": null,
   "id": "aeeaee2b-dd86-49ec-8339-408231ba6a05",
   "metadata": {},
   "outputs": [],
   "source": []
  },
  {
   "cell_type": "markdown",
   "id": "35156ba2-d47c-4969-811d-a93dd7f528c0",
   "metadata": {},
   "source": [
    "'created_at': '2025-07-03T00:55:24Z'\n"
   ]
  },
  {
   "cell_type": "code",
   "execution_count": 25,
   "id": "e4a7c2ac-4143-4f45-86d8-278df0437d1a",
   "metadata": {},
   "outputs": [
    {
     "data": {
      "text/plain": [
       "990"
      ]
     },
     "execution_count": 25,
     "metadata": {},
     "output_type": "execute_result"
    }
   ],
   "source": [
    "prompt_template = \"\"\"\n",
    "## CONTEXT\n",
    "You are analyzing customer support conversations for Tindahang Tapat, a digital platform enabling sari-sari stores to order groceries via mobile phone. Your task is to extract standardized problem-resolution pairs for a RAG knowledge base.\n",
    "\n",
    "## ANALYSIS REQUIREMENTS\n",
    "\n",
    "### Problem Statement Extraction\n",
    "Create a **searchable, generic problem description** that:\n",
    "- **Focuses on function over emotion**: Describe what failed/broke, not how customers felt\n",
    "- **Uses standard terminology**: Platform features, order processes, payment methods, product categories\n",
    "- **Removes ALL specificity**: No customer names, order numbers, specific brands, or timestamps\n",
    "- **Enables similarity matching**: Use consistent vocabulary for similar issues\n",
    "- **Length**: Exactly 2-3 sentences\n",
    "\n",
    "### Resolution Documentation  \n",
    "Provide an **actionable solution summary** that:\n",
    "- **Details specific steps**: What the agent did to resolve the issue\n",
    "- **Includes verification**: How resolution was confirmed\n",
    "- **Notes preventive measures**: Steps to avoid recurrence (if applicable)\n",
    "- **States clear outcome**: \"RESOLVED\" with method, or \"UNRESOLVED\" with next steps\n",
    "- **Length**: Exactly 2-3 sentences\n",
    "\n",
    "## MANDATORY STANDARDIZATION RULES\n",
    "\n",
    "### CRITICAL: Product Normalization\n",
    "**ALWAYS replace ALL specific product names, brands, and descriptions with \"items\"**\n",
    "- \"Nescafe 3-in-1 sachets\" → \"items\"\n",
    "- \"Tide powder 1kg\" → \"items\"\n",
    "- \"Lucky Me instant noodles\" → \"items\"\n",
    "- \"Coca-Cola 1.5L bottles\" → \"items\"\n",
    "- \"Pantene shampoo 200ml\" → \"items\"\n",
    "- \"instant coffee product\" → \"items\"\n",
    "- \"laundry detergent\" → \"items\"\n",
    "- \"beverage products\" → \"items\"\n",
    "- ANY specific product reference → \"items\"\n",
    "\n",
    "### Other Critical Normalizations\n",
    "**Customer References**\n",
    "- Any customer name → \"customer\"\n",
    "- Any store name/location → \"customer's store\"\n",
    "- Any order number/ID → \"customer order\"\n",
    "- Any account details → \"customer account\"\n",
    "- Specific amounts → \"order amount\" or \"payment amount\"\n",
    "\n",
    "**Technical Terms**\n",
    "- \"App crashed/froze/stopped/won't work\" → \"mobile application became unresponsive\"\n",
    "- \"Payment failed/declined/error/won't process\" → \"payment processing failed\"\n",
    "- \"Can't login/access/sign in\" → \"authentication failed\"\n",
    "- \"Won't load/loading/stuck loading\" → \"content failed to load\"\n",
    "- \"System error/bug/glitch\" → \"system malfunction occurred\"\n",
    "\n",
    "**Process References**\n",
    "- \"Ordering/checkout/purchasing process\" → \"order placement process\"\n",
    "- \"Delivery tracking/monitoring\" → \"order status tracking\"\n",
    "- \"Cart/basket/shopping list\" → \"shopping cart\"\n",
    "- \"Account setup/registration\" → \"account creation process\"\n",
    "\n",
    "### Language Standardization\n",
    "- **Payment issues**: \"payment processing\", \"transaction failure\", \"payment method error\"\n",
    "- **Delivery problems**: \"delivery scheduling issue\", \"logistics coordination failure\", \"order fulfillment problem\"\n",
    "- **Product concerns**: \"item availability issue\", \"inventory discrepancy\", \"catalog display problem\"\n",
    "- **Account access**: \"login authentication failure\", \"account verification issue\", \"profile access problem\"\n",
    "- **App functionality**: \"mobile app malfunction\", \"platform feature failure\", \"system functionality error\"\n",
    "\n",
    "### Absolute Exclusions\n",
    "**NEVER include:**\n",
    "- Any brand names, specific product names, or detailed item descriptions\n",
    "- Customer names, store names, specific locations\n",
    "- Order numbers, account IDs, reference codes, transaction IDs\n",
    "- Agent names, department names, company structure references\n",
    "- Timestamps, dates, or time-specific information\n",
    "- Monetary amounts (use \"order amount\" instead)\n",
    "- Emotional language (\"frustrated\", \"angry\", \"happy\", \"satisfied\")\n",
    "- Greetings, sign-offs, pleasantries, or social conversation\n",
    "- Repetitive confirmations or multiple explanations of same issue\n",
    "\n",
    "## CONVERSATION DATA\n",
    "{conversation}\n",
    "\n",
    "## CRITICAL INSTRUCTIONS\n",
    "1. Read the conversation completely\n",
    "2. Identify the PRIMARY functional problem and its resolution\n",
    "3. Apply ALL standardization rules - especially product normalization to \"items\"\n",
    "4. Write exactly 2-3 sentences for each section\n",
    "5. Verify NO specific product names, brands, or identifiers remain\n",
    "6. Ensure language is generic and searchable\n",
    "\n",
    "## OUTPUT REQUIREMENTS\n",
    "Provide ONLY the sections below. No explanations, commentary, or additional text.\n",
    "\n",
    "CORE PROBLEM STATEMENT:\n",
    "[Generic, searchable problem description with ALL products normalized as \"items\"]\n",
    "\n",
    "RESOLUTION:\n",
    "[Actionable solution steps and final status: RESOLVED or UNRESOLVED with next steps]\n",
    "\"\"\"\n",
    "problem_prompt = prompt_template.format(conversation=\"\")\n",
    "\n",
    "problem_tokens = len(encoding.encode(problem_prompt))\n",
    "\n",
    "problem_tokens"
   ]
  },
  {
   "cell_type": "code",
   "execution_count": null,
   "id": "901b6be6-77c7-40d8-99c3-b6b7a9a361da",
   "metadata": {},
   "outputs": [],
   "source": []
  },
  {
   "cell_type": "code",
   "execution_count": null,
   "id": "1abac73e-5c37-43be-b70c-fb172ab58515",
   "metadata": {},
   "outputs": [],
   "source": []
  },
  {
   "cell_type": "code",
   "execution_count": null,
   "id": "6c57479c-336a-4f1f-acff-eabbac84a911",
   "metadata": {},
   "outputs": [],
   "source": []
  },
  {
   "cell_type": "code",
   "execution_count": null,
   "id": "0d218f1a-375e-4589-b14c-837917379523",
   "metadata": {},
   "outputs": [],
   "source": []
  },
  {
   "cell_type": "code",
   "execution_count": null,
   "id": "17d1b5df-5176-47b0-8c16-7137f371de64",
   "metadata": {},
   "outputs": [],
   "source": []
  },
  {
   "cell_type": "code",
   "execution_count": null,
   "id": "1828b2e0-9d9f-434a-9d19-ba4f0f705f74",
   "metadata": {},
   "outputs": [],
   "source": []
  },
  {
   "cell_type": "code",
   "execution_count": null,
   "id": "1dc51aac-aa34-4172-bdf5-64585032e03a",
   "metadata": {},
   "outputs": [],
   "source": []
  },
  {
   "cell_type": "code",
   "execution_count": null,
   "id": "fc4f8029-d423-45f7-bba7-6f236d610527",
   "metadata": {},
   "outputs": [],
   "source": []
  },
  {
   "cell_type": "markdown",
   "id": "8adba4f2-7c0d-4052-8b2d-224efbb55ed3",
   "metadata": {},
   "source": [
    "tickets_url = f\"https://nueca.freshdesk.com/api/v2/tickets/7133\"\n",
    "ticket_description = requests.get(tickets_url, headers=headers, auth=auth).json()\n",
    "\n",
    "date_str = ticket_description['created_at']\n",
    "dt = datetime.strptime(date_str, \"%Y-%m-%dT%H:%M:%SZ\")\n",
    "month = dt.month\n",
    "month"
   ]
  },
  {
   "cell_type": "markdown",
   "id": "a11961f2-1b96-43fc-a9c2-ec6a5b1243a8",
   "metadata": {},
   "source": [
    "date_str"
   ]
  },
  {
   "cell_type": "code",
   "execution_count": null,
   "id": "ad25e5a1-d106-4e1c-9f40-33ac5990df7f",
   "metadata": {},
   "outputs": [],
   "source": []
  }
 ],
 "metadata": {
  "kernelspec": {
   "display_name": "Python 3 (ipykernel)",
   "language": "python",
   "name": "python3"
  },
  "language_info": {
   "codemirror_mode": {
    "name": "ipython",
    "version": 3
   },
   "file_extension": ".py",
   "mimetype": "text/x-python",
   "name": "python",
   "nbconvert_exporter": "python",
   "pygments_lexer": "ipython3",
   "version": "3.12.3"
  }
 },
 "nbformat": 4,
 "nbformat_minor": 5
}
