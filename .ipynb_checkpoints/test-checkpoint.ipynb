{
 "cells": [
  {
   "cell_type": "code",
   "execution_count": 1,
   "id": "bc051f0f-5f10-4fa5-9c97-f412999fb452",
   "metadata": {},
   "outputs": [
    {
     "data": {
      "text/plain": [
       "True"
      ]
     },
     "execution_count": 1,
     "metadata": {},
     "output_type": "execute_result"
    }
   ],
   "source": [
    "from dotenv import load_dotenv\n",
    "load_dotenv()"
   ]
  },
  {
   "cell_type": "code",
   "execution_count": 2,
   "id": "600b1def-e77e-4ca1-a4b5-07143f822ace",
   "metadata": {},
   "outputs": [],
   "source": [
    "import os\n",
    "\n",
    "headers = {\n",
    "    'Content-Type': 'application/json'\n",
    "}\n",
    "freshdesk_api_key = os.environ.get('FRESHDESK_API_KEY')\n",
    "auth = (freshdesk_api_key, 'X')\n",
    "domain = 'nueca'"
   ]
  },
  {
   "cell_type": "code",
   "execution_count": 6,
   "id": "7ec3f3f8-84eb-4001-b1ae-b8353857ebda",
   "metadata": {},
   "outputs": [],
   "source": [
    "import requests\n",
    "\n",
    "tickets_url = f\"https://{domain}.freshdesk.com/api/v2/tickets?order_by=created_at&order_type=desc&per_page=3\"\n",
    "ticket_response = requests.get(tickets_url, headers=headers, auth=auth)\n",
    "tickets = ticket_response.json() if ticket_response.status_code == 200 else []"
   ]
  },
  {
   "cell_type": "code",
   "execution_count": 34,
   "id": "8f130778-d222-4c99-b46c-f7e38204e063",
   "metadata": {},
   "outputs": [],
   "source": [
    "def parse_freshdesk_conversations(conversations, ticket_description) -> dict:\n",
    "    sorted_conversations = sorted(conversations, key=lambda x: x['created_at'])\n",
    "    \n",
    "    full_text_conversation = \"\"\n",
    "    full_conversation = []\n",
    "    customer_conversation = \"\"\n",
    "    agent_conversation = \"\"\n",
    "    ordered_conversation_details = []\n",
    "\n",
    "    message_data = {\n",
    "        'id': ticket_description['id'],\n",
    "        'sequence': 1,\n",
    "        'body_text': ticket_description['description_text'],\n",
    "        'timestamp': ticket_description['created_at'],\n",
    "        'user_id': ticket_description['requester_id'],\n",
    "        'role': 'Customer'\n",
    "    }\n",
    "\n",
    "    message = f'Customer: {message_data['body_text']}'\n",
    "    full_text_conversation += message + \"\\n\"\n",
    "    full_conversation.append(message)\n",
    "    customer_conversation += message_data['body_text'] + \"\\n\"\n",
    "    ordered_conversation_details.append(message_data)\n",
    "\n",
    "    for i, conv in enumerate(sorted_conversations, 2):\n",
    "        message_data = {\n",
    "            'id': conv['id'],\n",
    "            'sequence': i,\n",
    "            'body_text': conv['body_text'],\n",
    "            'timestamp': conv['created_at'],\n",
    "            'user_id': conv['user_id'],\n",
    "        }\n",
    "\n",
    "        if message_data['body_text'] == '':\n",
    "            continue\n",
    "        if conv['incoming']:\n",
    "            message = f'Customer: {message_data['body_text']}'\n",
    "            full_text_conversation += message + \"\\n\" \n",
    "            full_conversation.append(message)\n",
    "            message_data['role'] = 'Customer'\n",
    "            customer_conversation += message_data['body_text'] + \"\\n\"\n",
    "        else:\n",
    "            message = f'Agent: {message_data['body_text']}'\n",
    "            full_text_conversation += message + \"\\n\" \n",
    "            full_conversation.append(message)\n",
    "            message_data['role'] = 'Agent'\n",
    "            agent_conversation += message_data['body_text'] + \"\\n\"\n",
    "\n",
    "        ordered_conversation_details.append(message_data)\n",
    "        \n",
    "    return {\n",
    "        'full_text_conversation': full_text_conversation,\n",
    "        'full_conversation': full_conversation,\n",
    "        'customer_conversation': customer_conversation,\n",
    "        'agent_conversation': agent_conversation,\n",
    "        'ordered_conversation_details': ordered_conversation_details,\n",
    "    }"
   ]
  },
  {
   "cell_type": "code",
   "execution_count": 35,
   "id": "3337c864-6f30-48fe-bd10-f0f288da5488",
   "metadata": {},
   "outputs": [],
   "source": [
    "def get_all_conversations(ticket_id, ticket_description):\n",
    "    conversations = []\n",
    "    url = f\"https://{domain}.freshdesk.com/api/v2/tickets/{ticket_id}/conversations\"\n",
    "\n",
    "    while url:\n",
    "        response = requests.get(url, headers=headers, auth=auth)\n",
    "        if response.status_code != 200:\n",
    "            break\n",
    "        data = response.json()\n",
    "        conversations.extend(data)\n",
    "        link = response.headers.get('link')\n",
    "        if link and 'rel=\"next\"' in link:\n",
    "            import re\n",
    "            match = re.search(r'<([^>]+)>;\\s*rel=\"next\"', link)\n",
    "            url = match.group(1) if match else None\n",
    "            print(\"has pagination\")\n",
    "        else:\n",
    "            url = None\n",
    "\n",
    "    parsed_conversations = parse_freshdesk_conversations(conversations, ticket_description)\n",
    "\n",
    "    return parsed_conversations"
   ]
  },
  {
   "cell_type": "code",
   "execution_count": 40,
   "id": "8bbef01d-6aa6-4548-9055-2a93ec44052e",
   "metadata": {},
   "outputs": [
    {
     "name": "stdout",
     "output_type": "stream",
     "text": [
      "Customer length: 270\n",
      "Customer tokens: 152\n",
      "Agent length: 132\n",
      "Agent tokens: 33\n",
      "\n",
      "Customer messages:\n",
      "Happy New Year's! https://g.co/kgs/Vws5o57      Shared on Facebook:  https://l.facebook.com/l.php?u=https%3A%2F%2Fg.co%2Fkgs%2FVws5o57&h=AT0EI5a5ynocO6CxFKIf3ic6I2j5WO-4efr23EF1-WGRIcTf3N6FIoQtEQFM29p2xGpeGR5BfoN9P7Z3P1FWFqNqBvMa8MMf0s1cwgRE-6ILX0p-0yJLDpCSq_sup5b7&s=1\n",
      "\n",
      "\n",
      "Agent messages:\n",
      "Good morning Ma'am Eva! Pasensya na po sa late response ha. Itatanong lang po namin kung natanggap na po ba ninyo ang inyong order?\n",
      "\n",
      "\n",
      "***************\n"
     ]
    }
   ],
   "source": [
    "import requests\n",
    "import tiktoken\n",
    "\n",
    "# model = \"gpt-4o-mini\"\n",
    "# encoding = tiktoken.encoding_for_model(model)\n",
    "\n",
    "# customer_tokens = encoding.encode(customer_messages)\n",
    "# agent_tokens = encoding.encode(agent_messages)\n",
    "\n",
    "# 11810\n",
    "for ticket_id in range(7713, 7714):\n",
    "    tickets_url = f\"https://nueca.freshdesk.com/api/v2/tickets/{ticket_id}\"\n",
    "    ticket_description = requests.get(tickets_url, headers=headers, auth=auth).json()\n",
    "\n",
    "    parsed_conversations = get_all_conversations(ticket_id, ticket_description)\n",
    "    \n",
    "    customer_messages = parsed_conversations['customer_conversation']\n",
    "    agent_messages = parsed_conversations['agent_conversation']\n",
    "\n",
    "    print(f\"Customer length: {len(customer_messages)}\")\n",
    "    print(f\"Agent length: {len(agent_messages)}\")\n",
    "\n",
    "    # print()\n",
    "    \n",
    "    # print(f\"Customer messages:\\n{customer_messages}\\n\")\n",
    "    # print(f\"Agent messages:\\n{agent_messages}\\n\")\n",
    "    print(\"***************\")"
   ]
  },
  {
   "cell_type": "code",
   "execution_count": null,
   "id": "1908d704-dac6-4840-9e07-4de94de2ae6d",
   "metadata": {},
   "outputs": [],
   "source": [
    "tokens:\n",
    "\n",
    "get problem\n",
    "rag classification\n",
    "rag\n",
    "\n",
    "\n",
    "search results 5 fetch\n",
    "average length "
   ]
  },
  {
   "cell_type": "markdown",
   "id": "35156ba2-d47c-4969-811d-a93dd7f528c0",
   "metadata": {},
   "source": [
    "'created_at': '2025-07-03T00:55:24Z'\n"
   ]
  },
  {
   "cell_type": "code",
   "execution_count": null,
   "id": "9d4a872b-a74e-4653-a105-dea5954ddb2c",
   "metadata": {},
   "outputs": [],
   "source": []
  }
 ],
 "metadata": {
  "kernelspec": {
   "display_name": "Python 3 (ipykernel)",
   "language": "python",
   "name": "python3"
  },
  "language_info": {
   "codemirror_mode": {
    "name": "ipython",
    "version": 3
   },
   "file_extension": ".py",
   "mimetype": "text/x-python",
   "name": "python",
   "nbconvert_exporter": "python",
   "pygments_lexer": "ipython3",
   "version": "3.12.3"
  }
 },
 "nbformat": 4,
 "nbformat_minor": 5
}
