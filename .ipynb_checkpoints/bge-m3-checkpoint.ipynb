{
 "cells": [
  {
   "cell_type": "code",
   "execution_count": null,
   "id": "f8e4e7cc-e9d3-46f1-bc88-ad27d4f4148a",
   "metadata": {},
   "outputs": [],
   "source": []
  },
  {
   "cell_type": "code",
   "execution_count": null,
   "id": "43ffda38-1470-4c33-83ec-7f7ebb414738",
   "metadata": {},
   "outputs": [],
   "source": []
  },
  {
   "cell_type": "code",
   "execution_count": null,
   "id": "3391359a-a0b1-4703-a259-523270419b12",
   "metadata": {},
   "outputs": [],
   "source": [
    "def get_payload_to_json(request):\n",
    "    tickets_payload = []\n",
    "\n",
    "    print('Fetching tickets')\n",
    "    for ticket_id in range(0, 520):\n",
    "        print(ticket_id)\n",
    "        description_url = f\"https://{domain}.freshdesk.com/api/v2/tickets/{ticket_id}\"\n",
    "        response = requests.get(description_url, headers=headers, auth=auth)\n",
    "    \n",
    "        if response.status_code == 200:\n",
    "            ticket_description = response.json()\n",
    "        else:\n",
    "            print(f\"Ticket ID {ticket_id} not found (Status: {response.status_code}). Skipping...\")\n",
    "            continue\n",
    "\n",
    "        payload = get_payload(ticket_description)\n",
    "\n",
    "        if payload['status'] == 2: continue\n",
    "        if payload['query_type'] == None: continue \n",
    "        if payload['specific_issue'] == None: continue\n",
    "\n",
    "        parsed_conversations = get_all_conversations(ticket_id, ticket_description)\n",
    "        full_text_conversation = parsed_conversations['full_text_conversation']\n",
    "\n",
    "        problem = None\n",
    "        resolution = None\n",
    "\n",
    "        while problem is None or resolution is None:\n",
    "            problem, resolution = get_problem_and_resolution(full_text_conversation)\n",
    "\n",
    "        payload['problem'] = problem\n",
    "        payload['resolution'] = resolution\n",
    "\n",
    "        print(f'Problem: {problem}\\n\\nResolution: {resolution}')\n",
    "        print('-----')\n",
    "\n",
    "        tickets_payload.append(payload) \n",
    "\n",
    "        file_path = \"documents.json\"\n",
    "        if os.path.exists(file_path):\n",
    "            with open(file_path, \"r\", encoding=\"utf-8\") as f:\n",
    "                data = json.load(f)\n",
    "        else:\n",
    "            data = []\n",
    "\n",
    "        # data.extend(tickets_payload)\n",
    "        data.append(payload)\n",
    "\n",
    "        with open(file_path, \"w\", encoding=\"utf-8\") as f:\n",
    "            json.dump(data, f, ensure_ascii=False, indent=4)\n",
    "\n",
    "    return render(request, 'json.html')\n"
   ]
  },
  {
   "cell_type": "code",
   "execution_count": null,
   "id": "9ca5b69e-9740-4206-b8fd-147519626189",
   "metadata": {},
   "outputs": [],
   "source": []
  },
  {
   "cell_type": "code",
   "execution_count": null,
   "id": "796434e5-18b9-4702-922e-20401c5a23d6",
   "metadata": {},
   "outputs": [],
   "source": []
  },
  {
   "cell_type": "code",
   "execution_count": null,
   "id": "deb23b9e-a233-4a91-9489-49342f7e5aa9",
   "metadata": {},
   "outputs": [],
   "source": []
  }
 ],
 "metadata": {
  "kernelspec": {
   "display_name": "Python 3 (ipykernel)",
   "language": "python",
   "name": "python3"
  },
  "language_info": {
   "codemirror_mode": {
    "name": "ipython",
    "version": 3
   },
   "file_extension": ".py",
   "mimetype": "text/x-python",
   "name": "python",
   "nbconvert_exporter": "python",
   "pygments_lexer": "ipython3",
   "version": "3.12.3"
  }
 },
 "nbformat": 4,
 "nbformat_minor": 5
}
