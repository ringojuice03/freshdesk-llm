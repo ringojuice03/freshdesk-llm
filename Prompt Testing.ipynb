{
 "cells": [
  {
   "cell_type": "code",
   "execution_count": 1,
   "id": "66fde9e5-0bc2-4844-897a-bcae8d3b5abe",
   "metadata": {},
   "outputs": [],
   "source": [
    "from dotenv import load_dotenv\n",
    "load_dotenv()\n",
    "import os\n",
    "import requests\n",
    "import json\n",
    "import tiktoken\n",
    "\n",
    "encoding = tiktoken.encoding_for_model(\"gpt-4o-mini\")\n",
    "\n",
    "openai_api_key = os.environ.get(\"OPENAI_API_KEY\")"
   ]
  },
  {
   "cell_type": "code",
   "execution_count": 11,
   "id": "59554a7a-c58f-40d1-9838-4fa8b4af1de1",
   "metadata": {},
   "outputs": [],
   "source": [
    "headers = {\n",
    "    'Content-Type': 'application/json'\n",
    "}\n",
    "freshdesk_api_key = os.environ.get('FRESHDESK_API_KEY')\n",
    "auth = (freshdesk_api_key, 'X')\n",
    "domain = 'nueca'"
   ]
  },
  {
   "cell_type": "code",
   "execution_count": 9,
   "id": "c1682ec7-527b-47f8-9f23-357f10def01e",
   "metadata": {},
   "outputs": [],
   "source": [
    "customer_problem = \"The customer inquired about the status of their order and whether it would be delivered after experiencing a delay. They expressed concern about the delivery timeline and requested confirmation on the delivery of their order.\"\n",
    "agent_resolution = \"The agent confirmed that delivery operations had resumed and that the customer's order would be delivered that afternoon. The agent provided an update on the delivery status and assured the customer that their order was on its way. [Status: RESOLVED]\""
   ]
  },
  {
   "cell_type": "code",
   "execution_count": 10,
   "id": "fda051f2-ee85-46c1-994c-a6b817d03e7d",
   "metadata": {},
   "outputs": [
    {
     "name": "stdout",
     "output_type": "stream",
     "text": [
      "Customer problem: The customer inquired about the status of their order and whether it would be delivered after experiencing a delay. They expressed concern about the delivery timeline and requested confirmation on the delivery of their order.\n",
      "\n",
      "Agent resolution: The agent confirmed that delivery operations had resumed and that the customer's order would be delivered that afternoon. The agent provided an update on the delivery status and assured the customer that their order was on its way. [Status: RESOLVED]\n"
     ]
    }
   ],
   "source": [
    "print(f\"Customer problem: {customer_problem}\\n\\nAgent resolution: {agent_resolution}\")"
   ]
  },
  {
   "cell_type": "code",
   "execution_count": null,
   "id": "f587a4f3-11a7-463d-a3b4-bc9c9de2e79f",
   "metadata": {},
   "outputs": [],
   "source": []
  },
  {
   "cell_type": "code",
   "execution_count": null,
   "id": "64106f6c-700c-43ef-a3d3-f2aec66585d0",
   "metadata": {},
   "outputs": [],
   "source": []
  },
  {
   "cell_type": "code",
   "execution_count": null,
   "id": "b42927a4-ccb2-4a1e-81a3-6f4b3913fc4b",
   "metadata": {},
   "outputs": [],
   "source": [
    "prompt_template = \"\"\"\n",
    "## ROLE\n",
    "You are analyzing customer support conversations for Tindahang Tapat, a digital platform enabling sari-sari stores to order groceries via mobile phone. Your task is to extract standardized problem-resolution pairs for a RAG knowledge base.\n",
    "\n",
    "The CONVERSATION DATA contains messages from the customer and the agent (customer service representative).\n",
    "\n",
    "## CONVERSATION DATA\n",
    "{conversation}\n",
    "\n",
    "## QUERY TYPE - This the general classification of the customer's concern, identified by the agent.\n",
    "{query_type}\n",
    "\n",
    "## SPECIFIC ISSUE - This is the specific classification of the customer's concern, identified by the agent.\n",
    "{specific_issue}\n",
    "\n",
    "## TASK\n",
    "Extract the CORE PROBLEM STATEMENT and RESOLUTION based on the given CONVERSATION DATA, QUERY TYPE, and SPECIFIC ISSUE.\n",
    "\n",
    "## OUTPUT REQUIREMENTS\n",
    "\n",
    "### CORE PROBLEM STATEMENT\n",
    "- Must be based on the main concern of the customer\n",
    "- If multiple concerns exist, focus on the main one. ONLY ONE customer problem should be included in the CORE PROBLEM STATEMENT.\n",
    "- Do NOT include assumptions about possible impact to the customer\n",
    "- Focus only on problems explicitly stated by the customer\n",
    "- If no problem exists, output: \"No identifiable problem\"\n",
    "- Length: Exactly 2-3 sentences\n",
    "\n",
    "### RESOLUTION\n",
    "- Must be based on concrete actions taken by the agent to resolve the customer's main issue\n",
    "- Promises, reassurances, explanations, or status updates do NOT count as resolution\n",
    "- If no concrete resolution exists, output: \"Unresolved\"\n",
    "- Length: Exactly 2-3 sentences for resolved cases, single word \"Unresolved\" for unresolved cases\n",
    "\n",
    "## WHAT CONSTITUTES CONCRETE RESOLUTION\n",
    "**RESOLVED status requires concrete action taken by the agent:**\n",
    "- Refund processed and confirmed\n",
    "- Replacement item dispatched\n",
    "- Technical issue fixed (account unlocked, payment processed, etc.)\n",
    "- Correct information provided with verification\n",
    "- Problem directly addressed with measurable outcome\n",
    "- Compensation or credits applied to account\n",
    "\n",
    "## WHAT DOES NOT CONSTITUTE RESOLUTION\n",
    "**The following are NOT resolutions and should be marked \"Unresolved\":**\n",
    "- Promises or reassurances (\"we will try\", \"team will attempt\", \"we will follow up\")\n",
    "- Explanations without solutions (explaining why problem occurred)\n",
    "- Information gathering only (asking for details without solving)\n",
    "- Escalations without final resolution\n",
    "- Apologies without corrective action\n",
    "- Status updates without problem resolution\n",
    "- Acknowledgments of concerns without action\n",
    "\n",
    "## OBJECTIVITY REQUIREMENTS\n",
    "**ELIMINATE ALL EMOTIONAL AND SUBJECTIVE LANGUAGE:**\n",
    "\n",
    "### Prohibited Emotional Language\n",
    "- Customer emotions: \"frustrated\", \"angry\", \"upset\", \"disappointed\", \"happy\", \"satisfied\", \"annoyed\", \"worried\", \"concerned\", \"stressed\"\n",
    "- Agent emotions: \"apologetic\", \"sympathetic\", \"understanding\", \"helpful\", \"caring\"\n",
    "- Emotional reactions: \"complained\", \"expressed dissatisfaction\", \"was pleased\", \"felt relieved\"\n",
    "- Subjective descriptions: \"terrible experience\", \"great service\", \"poor quality\", \"excellent response\"\n",
    "\n",
    "### Required Objective Language\n",
    "- Use factual, neutral verbs: \"reported\", \"stated\", \"indicated\", \"requested\", \"received\", \"experienced\"\n",
    "- Focus on actions and events, not feelings about them\n",
    "- Describe what happened, not how anyone felt about it\n",
    "- Use technical, operational language\n",
    "\n",
    "## NORMALIZATION RULES\n",
    "Replace all specific details with standardized terms:\n",
    "\n",
    "### Customer References\n",
    "- Any customer name → \"customer\"\n",
    "- Any store name → \"customer's store\"\n",
    "- Any order number/ID → \"customer order\"\n",
    "- Any account details → \"customer account\"\n",
    "- Specific amounts → \"order amount\" or \"payment amount\"\n",
    "\n",
    "### CRITICAL: Product Normalization\n",
    "**ALWAYS replace ALL specific product names with \"items\"**\n",
    "- \"Nescafe 3-in-1 sachets\" → \"items\"\n",
    "- \"Tide powder 1kg\" → \"items\"\n",
    "- \"Lucky Me noodles\" → \"items\"\n",
    "- \"Coca-Cola 1.5L\" → \"items\"\n",
    "- \"Pantene shampoo\" → \"items\"\n",
    "- \"Kopiko coffee\" → \"items\"\n",
    "- \"Maggi seasoning\" → \"items\"\n",
    "- ANY brand name or specific product → \"items\"\n",
    "\n",
    "### Time References\n",
    "- Specific dates → \"scheduled delivery date\"\n",
    "- Specific times → \"delivery time\"\n",
    "- Time periods → \"delivery window\"\n",
    "\n",
    "### Location References\n",
    "- Specific addresses → \"delivery location\"\n",
    "- Cities/regions → \"delivery area\"\n",
    "- Landmarks → \"delivery location\"\n",
    "\n",
    "### External Factors\n",
    "- Weather events (storms, typhoons, floods) → \"weather conditions\"\n",
    "- Traffic issues → \"traffic conditions\"\n",
    "- System problems → \"technical issues\"\n",
    "\n",
    "### Technical Terms\n",
    "- \"App crashed/froze/stopped/won't work\" → \"mobile application became unresponsive\"\n",
    "- \"Payment failed/declined/error/won't process\" → \"payment processing failed\"\n",
    "- \"Can't login/access/sign in\" → \"authentication failed\"\n",
    "- \"Won't load/loading/stuck loading\" → \"content failed to load\"\n",
    "\n",
    "## CRITICAL INSTRUCTIONS\n",
    "1. Read the conversation completely to identify the main customer concern\n",
    "2. Apply ALL normalization rules - especially product normalization to \"items\"\n",
    "3. Mark as \"RESOLVED\" ONLY if concrete action was taken to fix the problem\n",
    "4. If only promises, explanations, or reassurances were given, mark as \"Unresolved\"\n",
    "5. Remove all specific dates, times, locations, and external factors\n",
    "6. Focus on the functional problem, not emotional context\n",
    "7. Ensure language is generic and searchable for RAG retrieval\n",
    "\n",
    "## OUTPUT FORMAT\n",
    "Always return output in exactly the following format with no additional commentary, explanations, or formatting:\n",
    "\n",
    "CORE PROBLEM STATEMENT:\n",
    "[2-3 sentences describing the main customer concern, normalized]\n",
    "\n",
    "RESOLUTION:\n",
    "[2-3 sentences describing concrete actions taken by agent, normalized] [Status: RESOLVED] OR [Unresolved]\n",
    "\"\"\""
   ]
  },
  {
   "cell_type": "code",
   "execution_count": 33,
   "id": "7dbe4400-e747-41ac-b9fd-fea8aef323d7",
   "metadata": {},
   "outputs": [
    {
     "data": {
      "text/plain": [
       "445"
      ]
     },
     "execution_count": 33,
     "metadata": {},
     "output_type": "execute_result"
    }
   ],
   "source": [
    "prompt = prompt_template.format(conversation=\"\", query_type=\"\", specific_issue=\"\")\n",
    "# print(prompt)\n",
    "a = encoding.encode(prompt)\n",
    "len(a)"
   ]
  },
  {
   "cell_type": "code",
   "execution_count": 34,
   "id": "f887f3a2-0baa-4aa3-b479-e6be27a82d6c",
   "metadata": {},
   "outputs": [],
   "source": [
    "from qdrant_client import QdrantClient\n",
    "\n",
    "qd_client = QdrantClient(\"localhost:8333\")"
   ]
  },
  {
   "cell_type": "code",
   "execution_count": null,
   "id": "7138ba49-7ae8-4315-9afe-b44f39ef2d88",
   "metadata": {},
   "outputs": [],
   "source": [
    "qd_client.create_payload_index()"
   ]
  },
  {
   "cell_type": "code",
   "execution_count": null,
   "id": "667f3cdc-1b72-4e28-b839-98494618ecfb",
   "metadata": {},
   "outputs": [],
   "source": []
  },
  {
   "cell_type": "code",
   "execution_count": null,
   "id": "d70e06bd-7090-4832-b0a9-434d889c0bf9",
   "metadata": {},
   "outputs": [],
   "source": []
  },
  {
   "cell_type": "code",
   "execution_count": 45,
   "id": "0b6c062e-e756-49df-a92e-e519ee13a051",
   "metadata": {},
   "outputs": [
    {
     "data": {
      "text/plain": [
       "('Customer reported receiving damaged items during delivery. Customer requested replacement or resolution for the damaged items.',\n",
       " \"[Status: RESOLVED] Customer's issue with damaged items was reported to the warehouse for follow-up. The damaged item was to be adjusted in the customer's next delivery.\",\n",
       " 'typhoon')"
      ]
     },
     "execution_count": 45,
     "metadata": {},
     "output_type": "execute_result"
    }
   ],
   "source": [
    "import re\n",
    "\n",
    "def split_problem_and_resolution(text) -> tuple[str, str]:\n",
    "    pattern = r\"\"\"\n",
    "        [#\\s]*CORE\\s+PROBLEM\\s+STATEMENT[:\\s]*\n",
    "        (.*?)                                  \n",
    "        [#\\s]*RESOLUTION[:\\s]*\n",
    "        (.*?)                      \n",
    "        [#\\*\\s]*OPERATION\\s+TYPE[:\\s\\#\\*]*\n",
    "        (.*)                          \n",
    "    \"\"\"\n",
    "\n",
    "    # pattern = r\"\"\"\n",
    "    #     CORE\\s+PROBLEM\\s+STATEMENT:\\s*\n",
    "    #     (.*?)                                  \n",
    "    #     \\s*RESOLUTION:\\s*\n",
    "    #     (.*?)                      \n",
    "    #     \\s*OPERATION\\s+TYPE:\\s*\n",
    "    #     (.*)                          \n",
    "    # \"\"\"\n",
    "\n",
    "    match = re.search(pattern, text, re.DOTALL | re.VERBOSE)\n",
    "    if match:\n",
    "        problem = match.group(1).strip()\n",
    "        resolution = match.group(2).strip()\n",
    "        operation = match.group(3).strip()\n",
    "        return problem, resolution, operation\n",
    "    else:\n",
    "        return None, None, None\n",
    "\n",
    "a = \"CORE PROBLEM STATEMENT: Customer reported receiving damaged items during delivery. Customer requested replacement or resolution for the damaged items.\\n\\nRESOLUTION: [Status: RESOLVED] Customer's issue with damaged items was reported to the warehouse for follow-up. The damaged item was to be adjusted in the customer's next delivery.\\n\\nOPERATION TYPE: typhoon\"\n",
    "split_problem_and_resolution(a)"
   ]
  },
  {
   "cell_type": "code",
   "execution_count": null,
   "id": "c9c141f8-2bd6-4c01-a7a7-57c3e2f794ba",
   "metadata": {},
   "outputs": [],
   "source": []
  },
  {
   "cell_type": "code",
   "execution_count": 48,
   "id": "8e5f4c32-736b-439d-b0c7-fc23a3b3c77e",
   "metadata": {},
   "outputs": [],
   "source": [
    "x = \"The customer inquired about the availability of a specific payment method. The customer also requested an update regarding the status of their order delivery.\"\n",
    "y = \"The agent indicated that the specific payment method is not currently available, but it may be offered in the future. The agent requested additional information to follow up on the delivery status, stating that the order is likely to be delivered on the scheduled delivery date. [Status: Unresolved]\""
   ]
  },
  {
   "cell_type": "code",
   "execution_count": 49,
   "id": "23c210ee-dfcc-44f7-a235-35823d0bdd4c",
   "metadata": {},
   "outputs": [
    {
     "name": "stdout",
     "output_type": "stream",
     "text": [
      "Customer problem: The customer inquired about the availability of a specific payment method. The customer also requested an update regarding the status of their order delivery.\n",
      "\n",
      "Agent resolution: The agent indicated that the specific payment method is not currently available, but it may be offered in the future. The agent requested additional information to follow up on the delivery status, stating that the order is likely to be delivered on the scheduled delivery date. [Status: Unresolved]\n"
     ]
    }
   ],
   "source": [
    "print(f\"Customer problem: {x}\\n\\nAgent resolution: {y}\")"
   ]
  },
  {
   "cell_type": "code",
   "execution_count": null,
   "id": "9b62f3d6-db4a-4a3f-9f20-86df7d83c38b",
   "metadata": {},
   "outputs": [],
   "source": []
  },
  {
   "cell_type": "code",
   "execution_count": null,
   "id": "8d8f5e80-bd14-411e-bf49-38a3394db69f",
   "metadata": {},
   "outputs": [],
   "source": []
  },
  {
   "cell_type": "code",
   "execution_count": null,
   "id": "5af6db02-0ed1-4d68-bdac-904910e83f82",
   "metadata": {},
   "outputs": [],
   "source": []
  },
  {
   "cell_type": "code",
   "execution_count": null,
   "id": "927ce2f0-7fa4-4a8b-b49a-91392f940265",
   "metadata": {},
   "outputs": [],
   "source": []
  },
  {
   "cell_type": "code",
   "execution_count": null,
   "id": "1503e3e1-3aa3-480b-9d84-8737a1a45b6d",
   "metadata": {},
   "outputs": [],
   "source": []
  },
  {
   "cell_type": "code",
   "execution_count": null,
   "id": "900343e7-8994-40dd-8d5e-950b930bb8d5",
   "metadata": {},
   "outputs": [],
   "source": []
  },
  {
   "cell_type": "code",
   "execution_count": null,
   "id": "0106bb27-0a04-49bf-aa66-7ad8fb40635c",
   "metadata": {},
   "outputs": [],
   "source": []
  },
  {
   "cell_type": "code",
   "execution_count": 2,
   "id": "33757282-1338-40f1-af5e-08aa4235d046",
   "metadata": {},
   "outputs": [
    {
     "name": "stdout",
     "output_type": "stream",
     "text": [
      "Agent requested the reason for changing the delivery date and then processed the customer's request to reschedule the delivery. Agent informed the warehouse about the customer's new delivery preference. The delivery was rescheduled.\n",
      "\n",
      "CORE PROBLEM STATEMENT and RESOLUTION will be rewritten to follow the exact format required:\n",
      "\n",
      "CORE PROBLEM STATEMENT: Customer reported that items were not delivered to their store. Customer requested to change the delivery date. Customer was not available for delivery on the scheduled delivery date.\n",
      "RESOLUTION: Agent processed the customer's request to reschedule the delivery to a later date. Agent informed the warehouse about the customer's new delivery preference. RESOLVED\n",
      "\n",
      "Let's correct that to fit the required format:\n",
      "\n",
      "CORE PROBLEM STATEMENT:\n",
      "Customer reported that items were not delivered to their store. Customer requested to change the delivery date. Customer was not available for delivery on the scheduled delivery date.\n",
      "\n",
      "RESOLUTION:\n",
      "Agent processed the customer's request to reschedule the delivery to a later date. Agent informed the warehouse about the customer's new delivery preference. RESOLVED\n"
     ]
    }
   ],
   "source": [
    "a = \"Agent requested the reason for changing the delivery date and then processed the customer's request to reschedule the delivery. Agent informed the warehouse about the customer's new delivery preference. The delivery was rescheduled.\\n\\nCORE PROBLEM STATEMENT and RESOLUTION will be rewritten to follow the exact format required:\\n\\nCORE PROBLEM STATEMENT: Customer reported that items were not delivered to their store. Customer requested to change the delivery date. Customer was not available for delivery on the scheduled delivery date.\\nRESOLUTION: Agent processed the customer's request to reschedule the delivery to a later date. Agent informed the warehouse about the customer's new delivery preference. RESOLVED\\n\\nLet's correct that to fit the required format:\\n\\nCORE PROBLEM STATEMENT:\\nCustomer reported that items were not delivered to their store. Customer requested to change the delivery date. Customer was not available for delivery on the scheduled delivery date.\\n\\nRESOLUTION:\\nAgent processed the customer's request to reschedule the delivery to a later date. Agent informed the warehouse about the customer's new delivery preference. RESOLVED\"\n",
    "print(a)"
   ]
  },
  {
   "cell_type": "code",
   "execution_count": null,
   "id": "119b42ef-1b79-4117-949f-d03c7a1ab4c7",
   "metadata": {},
   "outputs": [],
   "source": []
  },
  {
   "cell_type": "code",
   "execution_count": 32,
   "id": "d7c299ee-5d3b-40c3-adf5-cdc5ed562b50",
   "metadata": {},
   "outputs": [],
   "source": [
    "prompt_template = \"\"\"\n",
    "## ROLE\n",
    "Analyze customer support conversations for Tindahang Tapat to extract standardized problem-resolution pairs for RAG knowledge base.\n",
    "\n",
    "## INPUT DATA\n",
    "CONVERSATION: {conversation}\n",
    "QUERY TYPE: {query_type}\n",
    "SPECIFIC ISSUE: {specific_issue}\n",
    "\n",
    "## OUTPUT REQUIREMENTS\n",
    "\n",
    "### CORE PROBLEM STATEMENT (2-3 sentences)\n",
    "- Main customer concern only (if multiple, pick primary)\n",
    "- Based on explicit customer statements, not assumptions\n",
    "- Use objective, factual language\n",
    "\n",
    "### RESOLUTION (2-3 sentences or \"Unresolved\")\n",
    "**RESOLVED**: Concrete action taken (refund processed, item dispatched, issue fixed, credits applied)\n",
    "**Unresolved**: Promises, explanations, escalations, or reassurances only\n",
    "\n",
    "### OPERATION TYPE\n",
    "- Determine based on context clues in the conversation data:\n",
    "  - **typhoon**: Weather-related disruptions, storm mentions, emergency protocols, \"bagyo\", \"ulan\", \"baha\", weather delays\n",
    "  - **christmas**: Holiday season references, December timeframes, seasonal delays, \"Pasko\", Christmas rush\n",
    "  - **normal**: Default for all other cases\n",
    "- If unclear, default to \"normal\"\n",
    "\n",
    "## NORMALIZATION RULES\n",
    "**Replace ALL specifics with generic terms:**\n",
    "- Names/stores/IDs → \"customer\", \"customer's store\", \"customer order\"\n",
    "- ALL products → \"items\" (regardless of brand/type)\n",
    "- Dates/times → \"scheduled delivery date\", \"delivery time\"\n",
    "- Locations → \"delivery location\", \"delivery area\"\n",
    "- Weather/traffic → \"weather conditions\", \"traffic conditions\"\n",
    "- Tech issues → \"mobile application became unresponsive\", \"payment processing failed\", \"authentication failed\"\n",
    "\n",
    "## PROHIBITED LANGUAGE\n",
    "Remove all emotional/subjective terms: frustrated, angry, disappointed, apologetic, terrible, great, complained, pleased, etc.\n",
    "Use neutral verbs: reported, stated, indicated, requested, received, experienced.\n",
    "\n",
    "## OUTPUT FORMAT\n",
    "CORE PROBLEM STATEMENT:\n",
    "[normalized 2-3 sentences]\n",
    "\n",
    "RESOLUTION:\n",
    "[normalized 2-3 sentences with [Status: RESOLVED]] OR [Unresolved]\n",
    "\n",
    "OPERATION TYPE:\n",
    "[normal/typhoon/christmas]\n",
    "\"\"\""
   ]
  },
  {
   "cell_type": "code",
   "execution_count": 5,
   "id": "f0f083f2-12f6-459c-8b57-cc675d6e43a0",
   "metadata": {},
   "outputs": [
    {
     "data": {
      "text/plain": [
       "True"
      ]
     },
     "execution_count": 5,
     "metadata": {},
     "output_type": "execute_result"
    }
   ],
   "source": [
    "\"CORE PROBLEM STATEMENT\" not in str(None)"
   ]
  },
  {
   "cell_type": "code",
   "execution_count": null,
   "id": "9635b5bf-6fe3-423e-9baa-bd6a4d442575",
   "metadata": {},
   "outputs": [],
   "source": []
  },
  {
   "cell_type": "code",
   "execution_count": 24,
   "id": "b4d4d99f-b430-442d-9471-92849c2bba10",
   "metadata": {},
   "outputs": [],
   "source": [
    "prompt_template = \"\"\"\n",
    "## ROLE\n",
    "Analyze customer support conversations for Tindahang Tapat to extract standardized problem-resolution pairs for RAG knowledge base.\n",
    "\n",
    "## INPUT DATA\n",
    "CONVERSATION: {conversation}\n",
    "QUERY TYPE: {query_type}\n",
    "SPECIFIC ISSUE: {specific_issue}\n",
    "\n",
    "## OUTPUT REQUIREMENTS\n",
    "\n",
    "### CORE PROBLEM STATEMENT (2-3 sentences)\n",
    "- Main customer concern only (if multiple, pick primary)\n",
    "- Based on explicit customer statements, not assumptions\n",
    "- Use objective, factual language\n",
    "\n",
    "### RESOLUTION (2-3 sentences or \"Unresolved\")\n",
    "**RESOLVED**: Concrete action taken (refund processed, item dispatched, issue fixed, credits applied)\n",
    "**Unresolved**: Promises, explanations, escalations, or reassurances only\n",
    "\n",
    "### OPERATION TYPE\n",
    "- **typhoon**: Weather-related disruptions, storm mentions, emergency protocols\n",
    "- **christmas**: Holiday season references, December timeframes, seasonal delays\n",
    "- **normal**: Default for all other cases\n",
    "\n",
    "## NORMALIZATION RULES\n",
    "**Replace ALL specifics with generic terms:**\n",
    "- Names/stores/IDs → \"customer\", \"customer's store\", \"customer order\"\n",
    "- ALL products → \"items\" (regardless of brand/type)\n",
    "- Dates/times → \"scheduled delivery date\", \"delivery time\"\n",
    "- Locations → \"delivery location\", \"delivery area\"\n",
    "- Weather/traffic → \"weather conditions\", \"traffic conditions\"\n",
    "- Tech issues → \"mobile application became unresponsive\", \"payment processing failed\", \"authentication failed\"\n",
    "\n",
    "## PROHIBITED LANGUAGE\n",
    "Remove all emotional/subjective terms: frustrated, angry, disappointed, apologetic, terrible, great, complained, pleased, etc.\n",
    "Use neutral verbs: reported, stated, indicated, requested, received, experienced.\n",
    "\n",
    "## OUTPUT FORMAT\n",
    "CORE PROBLEM STATEMENT:\n",
    "[normalized 2-3 sentences]\n",
    "\n",
    "RESOLUTION:\n",
    "[normalized 2-3 sentences with [Status: RESOLVED]] OR [Unresolved]\n",
    "\n",
    "OPERATION TYPE:\n",
    "[normal/typhoon/christmas]\n",
    "\"\"\""
   ]
  }
 ],
 "metadata": {
  "kernelspec": {
   "display_name": "Python 3 (ipykernel)",
   "language": "python",
   "name": "python3"
  },
  "language_info": {
   "codemirror_mode": {
    "name": "ipython",
    "version": 3
   },
   "file_extension": ".py",
   "mimetype": "text/x-python",
   "name": "python",
   "nbconvert_exporter": "python",
   "pygments_lexer": "ipython3",
   "version": "3.12.3"
  }
 },
 "nbformat": 4,
 "nbformat_minor": 5
}
